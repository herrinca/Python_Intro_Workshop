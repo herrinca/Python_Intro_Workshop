{
 "cells": [
  {
   "cell_type": "markdown",
   "id": "e7f17bfa-cbe3-4e0d-910d-1772eb3cf2fa",
   "metadata": {},
   "source": [
    "Import the needed packages and add inline magic command for matplotlib"
   ]
  },
  {
   "cell_type": "code",
   "execution_count": null,
   "id": "04140ab9-4553-4878-802e-46a33188b788",
   "metadata": {},
   "outputs": [],
   "source": [
    "import numpy as np\n",
    "import pandas as pd\n",
    "import matplotlib.pyplot as plt\n",
    "%matplotlib inline"
   ]
  },
  {
   "cell_type": "markdown",
   "id": "b7fba62a-59d0-4987-bfe9-bfe7fb8a74a4",
   "metadata": {},
   "source": [
    "# **Visualization with Seaborn**\n",
    "Matplotlib is a useful tool, but it leaves much to be desired. There are several valid complaints about matplotlib that often come up:\n",
    "\n",
    "- Matplotlib's defaults are not exactly the best choices. It was based off of MatLab circa 1999, and this shows.\n",
    "- Matplotlib is relatively low-level. Doing sophisticated statistical visualization is possible, but often requires a lot of boilerplate code.\n",
    "- Matplotlib is not designed for use with Pandas dataframes. In order to visualize data from a Pandas dataframe, you must extract each series and often concatenate these series' together into the right format.\n",
    "\n",
    "The answer to these problems is Seaborn. Seaborn provides an interface or wrapper on top of matplotlib which uses sane plot & color defaults, uses simple functions for common statistical plot types, and which integrates with the functionality provided by Pandas dataframes."
   ]
  },
  {
   "cell_type": "markdown",
   "id": "7e620167-ab3d-4b16-86bf-f7b1e3dc0564",
   "metadata": {},
   "source": [
    "Seaborn is popular and by convention is imported as sns. We can set the seaborn style as the default matplotlib style by calling sns.set(): after doing this, even simple matplotlib plots will look much better. Let's look at a before and after:"
   ]
  },
  {
   "cell_type": "code",
   "execution_count": null,
   "id": "49df5cfd-8993-4daa-903e-892a512c330c",
   "metadata": {},
   "outputs": [],
   "source": [
    "x = np.linspace(0, 10, 1000)\n",
    "plt.plot(x, np.sin(x), x, np.cos(x));"
   ]
  },
  {
   "cell_type": "code",
   "execution_count": null,
   "id": "79af9710-c57b-4147-a8ea-3c5a38bae0cd",
   "metadata": {},
   "outputs": [],
   "source": [
    "import seaborn as sns\n",
    "sns.set()\n",
    "plt.plot(x, np.sin(x), x, np.cos(x));"
   ]
  },
  {
   "cell_type": "markdown",
   "id": "096816a9-0778-40c8-8cb7-b90b0caa0f8f",
   "metadata": {},
   "source": [
    "The above two figures show the difference in the default Matplotlib and Seaborn plots. The representation of data is the same, but there is a slight difference in the styling of these plots.\n",
    "\n",
    "Seaborn supports various themes that can make styling the plots really easy and save a lot of time. Using the set_style() function of Seaborn we can set any of the themes available on Seaborn library. Here are a few of the popular themes:\n",
    "\n",
    "- Darkgrid\n",
    "- Whitegrid\n",
    "- Dark\n",
    "- White\n",
    "- Ticks"
   ]
  },
  {
   "cell_type": "code",
   "execution_count": null,
   "id": "8334c71f-e45d-4e8e-b006-0cc5324d62ad",
   "metadata": {},
   "outputs": [],
   "source": [
    "sns.set_style('whitegrid')\n",
    "plt.plot(x, np.sin(x), x, np.cos(x));"
   ]
  },
  {
   "cell_type": "markdown",
   "id": "ff993eb7-8fb8-4781-ba5e-972a9e2126e9",
   "metadata": {},
   "source": [
    "Seaborn also allows us to control individual elements of our graphs and thus we can control the scale of these elements or the plot by using the set_context() function. We have four preset templates for contexts, based on relative size, the contexts are named as follows\n",
    "\n",
    "- Paper\n",
    "- Notebook\n",
    "- Talk\n",
    "- Poster"
   ]
  },
  {
   "cell_type": "code",
   "execution_count": null,
   "id": "e45032fd-f66b-499d-aa8d-f88c1c0a8ce6",
   "metadata": {},
   "outputs": [],
   "source": [
    "sns.set_style('whitegrid')\n",
    "sns.set_context('talk')\n",
    "plt.plot(x, np.sin(x), x, np.cos(x));"
   ]
  },
  {
   "cell_type": "markdown",
   "id": "d8525cb0-6e70-42a4-996e-97f2596bb50d",
   "metadata": {},
   "source": [
    "Lets set the context back to notebook"
   ]
  },
  {
   "cell_type": "code",
   "execution_count": null,
   "id": "c5f4bf43-06ab-4fe3-a4db-74fc56f30ad0",
   "metadata": {},
   "outputs": [],
   "source": [
    "sns.set_context('notebook')"
   ]
  },
  {
   "cell_type": "markdown",
   "id": "b0a81ff5-58b7-447a-8eed-d48f9231398b",
   "metadata": {},
   "source": [
    "## **Exploring Seaborn Plots**\n",
    "The main idea of Seaborn is that it can create complicated plot types from Pandas data with relatively simple commands.\n",
    "\n",
    "Let's take a look at a few of the datasets and plot types available in Seaborn. Note that all o the following could be done using raw matplotlib commands (this is, in fact, what Seaborn does under the hood) but the seaborn API is much more convenient.\n",
    "\n",
    "Histograms, KDE, and Densities\n",
    "Often in statistical data visualization, all you want is to plot histograms and joint distributions of variables. Seaborn provides simple tools to make this happen:"
   ]
  },
  {
   "cell_type": "code",
   "execution_count": null,
   "id": "721ea49b-9e62-4cd0-a22d-35cb8d30c0e5",
   "metadata": {},
   "outputs": [],
   "source": [
    "data = np.random.multivariate_normal([0, 0], [[5, 2], [2, 2]], size=2000)\n",
    "data = pd.DataFrame(data, columns=['x', 'y'])\n",
    "\n",
    "for col in 'xy':\n",
    "    plt.hist(data[col], density=True, alpha=0.5)"
   ]
  },
  {
   "cell_type": "markdown",
   "id": "8a77dacd-2457-40d0-90d5-0b8b1775d228",
   "metadata": {},
   "source": [
    "Rather than a histogram, we can get a smooth estimate of the distribution using a kernel density estimation:"
   ]
  },
  {
   "cell_type": "code",
   "execution_count": null,
   "id": "e0a3725d-7c1f-427e-bbc9-38bbb1d91be5",
   "metadata": {},
   "outputs": [],
   "source": [
    "sns.kdeplot(data=data, shade=True);"
   ]
  },
  {
   "cell_type": "markdown",
   "id": "760bd0b8-edbf-497c-9b93-fbdac01cef3a",
   "metadata": {
    "id": "bfrwmah66vGL"
   },
   "source": [
    "If we pass `x` and `y` columns to `kdeplot`, we instead get a two-dimensional visualization of the joint density (see the following figure):"
   ]
  },
  {
   "cell_type": "code",
   "execution_count": null,
   "id": "359be4eb-eb1d-4b97-b6d1-0f8923a64b9a",
   "metadata": {
    "collapsed": false,
    "id": "D2SMXxl46vGL",
    "jupyter": {
     "outputs_hidden": false
    },
    "outputId": "813e21ea-447a-496d-8305-ae39d145ec0e"
   },
   "outputs": [],
   "source": [
    "sns.kdeplot(data=data, x='x', y='y');"
   ]
  },
  {
   "cell_type": "markdown",
   "id": "64d9cb86-bf25-4cfc-b91f-035998212328",
   "metadata": {
    "id": "j8krwBGQ6vGM"
   },
   "source": [
    "## **Pair Plots**\n",
    "\n",
    "When you generalize joint plots to datasets of larger dimensions, you end up with *pair plots*. These are very useful for exploring correlations between multidimensional data, when you'd like to plot all pairs of values against each other.\n",
    "\n",
    "We'll demo this with the well-known Iris dataset, which lists measurements of petals and sepals of three Iris species. This dataset, among others, comes packaged with seaborn."
   ]
  },
  {
   "cell_type": "code",
   "execution_count": null,
   "id": "c672dff9-3da0-48e3-bf98-a0479e2308e7",
   "metadata": {
    "collapsed": false,
    "id": "-KOYMATP6vGN",
    "jupyter": {
     "outputs_hidden": false
    },
    "outputId": "46cebe30-956e-4008-f24c-25579302a5c4"
   },
   "outputs": [],
   "source": [
    "iris = sns.load_dataset(\"iris\")\n",
    "iris.head()"
   ]
  },
  {
   "cell_type": "markdown",
   "id": "d3d3cc0f-b695-477d-b772-9a3bf0433b78",
   "metadata": {
    "id": "cfJ334jt6vGN"
   },
   "source": [
    "Visualizing the multidimensional relationships among the samples is as easy as calling ``sns.pairplot`` (see the following figure):"
   ]
  },
  {
   "cell_type": "code",
   "execution_count": null,
   "id": "d301e61f-80f0-42e8-9a55-da4d2fa88046",
   "metadata": {
    "collapsed": false,
    "id": "HbSLnDe56vGO",
    "jupyter": {
     "outputs_hidden": false
    },
    "outputId": "773a44a9-6381-4747-9c77-6521d1da12b6"
   },
   "outputs": [],
   "source": [
    "sns.pairplot(iris, hue='species', height=2.5);"
   ]
  },
  {
   "cell_type": "markdown",
   "id": "3753c1bb-57cd-460d-9998-174b1de5b248",
   "metadata": {},
   "source": [
    "---\n",
    "\n",
    "<br>\n",
    "\n",
    "#### *Task 7.1: Make a Pair Plot*\n",
    "\n",
    "As can be seen below there are multiple dataset which can be loaded from seaborn. For this task load the dataset \"penguins\" and make a pair plot with a hue overlay of species and sex."
   ]
  },
  {
   "cell_type": "code",
   "execution_count": null,
   "id": "4144c9e7-27fe-4603-94cc-3e249a3093f3",
   "metadata": {},
   "outputs": [],
   "source": [
    "print(sns.get_dataset_names())"
   ]
  },
  {
   "cell_type": "code",
   "execution_count": null,
   "id": "bf32f6ce-1002-46cd-bddf-9df432d1f69a",
   "metadata": {},
   "outputs": [],
   "source": [
    "# Task 7.1\n",
    "\n"
   ]
  },
  {
   "cell_type": "markdown",
   "id": "644e6dcd-919d-4d17-acd4-d117b865d52c",
   "metadata": {},
   "source": [
    "---\n",
    "\n",
    "<br>\n",
    "\n",
    "## **Categorical Plots**\n",
    "\n",
    "Lets take a look at some data that shows the amount that restaurant staff receive in tips based on various indicator data:\n",
    "\n",
    "The restaurant staff data used in this section divides employees into two sexes: female and male. Biological sex isn’t binary, but the following discussion and visualizations are limited by this data."
   ]
  },
  {
   "cell_type": "code",
   "execution_count": null,
   "id": "6b705f59-b11d-4005-a482-aa5742e13ebf",
   "metadata": {},
   "outputs": [],
   "source": [
    "tips = sns.load_dataset('tips')\n",
    "tips.head()"
   ]
  },
  {
   "cell_type": "markdown",
   "id": "eb7ec2f6-af8a-477a-bb3b-49f6eadcdea1",
   "metadata": {},
   "source": [
    "Categorical plots can be useful for some quick insights into the dataset. These allow you to view the distribution of a parameter within bins defined by any other parameter, as shown in the following figure:"
   ]
  },
  {
   "cell_type": "code",
   "execution_count": null,
   "id": "81c31781-fdbf-414d-9630-8673b658be77",
   "metadata": {},
   "outputs": [],
   "source": [
    "sns.boxplot(x=\"day\", y=\"tip\", data=tips, hue=\"sex\");"
   ]
  },
  {
   "cell_type": "code",
   "execution_count": null,
   "id": "4aef6bc9-63ed-4b4b-833f-e2e72df5b0aa",
   "metadata": {},
   "outputs": [],
   "source": [
    "sns.violinplot( x=\"day\", y=\"tip\", data=tips, hue='sex');"
   ]
  },
  {
   "cell_type": "markdown",
   "id": "8cc950e5-0091-439b-98fc-5c1f6a9c8ddc",
   "metadata": {},
   "source": [
    "<br>\n",
    "\n",
    "\n",
    "#### *Task 7.2: Cat Plot*\n",
    "\n",
    "Using the tip dataframe make a violin plot with the size feature along the x-axis and total_bill along the y-axis. Set the hue parameter to which to the categorical variable of your choice.  "
   ]
  },
  {
   "cell_type": "code",
   "execution_count": null,
   "id": "be9d9359-b462-4f9e-a15f-c4e0573d50ab",
   "metadata": {},
   "outputs": [],
   "source": [
    "# Task 7.2\n",
    "\n"
   ]
  },
  {
   "cell_type": "markdown",
   "id": "68b82806-4f26-4e9e-9a52-4893b1269b3b",
   "metadata": {
    "id": "l7Uv1ezs6vGR"
   },
   "source": [
    "## **Joint Distributions**\n",
    "\n",
    "Similar to the pair plot we saw earlier, we can use `sns.jointplot` to show the joint distribution between different datasets, along with the associated marginal distributions:"
   ]
  },
  {
   "cell_type": "code",
   "execution_count": null,
   "id": "e628c9b6-d1b7-46a9-89d6-4c913bd47967",
   "metadata": {
    "collapsed": false,
    "id": "oOk3ky8z6vGR",
    "jupyter": {
     "outputs_hidden": false
    },
    "outputId": "2080c763-41c3-4e73-d41e-4b60ff3aa644"
   },
   "outputs": [],
   "source": [
    "sns.jointplot(x=\"total_bill\", y=\"tip\", data=tips);"
   ]
  },
  {
   "cell_type": "code",
   "execution_count": null,
   "id": "cfe19f60-7eb1-40fd-85cd-463822798ab4",
   "metadata": {},
   "outputs": [],
   "source": [
    "sns.jointplot(x=\"total_bill\", y=\"tip\", data=tips, kind='hex');"
   ]
  },
  {
   "cell_type": "markdown",
   "id": "e7cdda57-0c49-4147-8f00-90b8a623748e",
   "metadata": {},
   "source": [
    "## **Heat and Cluster Maps**"
   ]
  },
  {
   "cell_type": "markdown",
   "id": "8d765bfe-03fc-48dc-b70f-8e67c2107e4d",
   "metadata": {},
   "source": [
    "As a simple example, consider the “flights” dataset, which records the number of airline passengers who flew in each month from 1949 to 1960."
   ]
  },
  {
   "cell_type": "code",
   "execution_count": null,
   "id": "8abb3fd4-e29d-446f-a3af-1504f4dfcc9c",
   "metadata": {},
   "outputs": [],
   "source": [
    "flights = sns.load_dataset(\"flights\")\n",
    "flights.head()"
   ]
  },
  {
   "cell_type": "markdown",
   "id": "d11abbf6-9dd2-4c6d-ad00-d64247e21d8a",
   "metadata": {},
   "source": [
    "We can use the pandas dataframe `.pivot()` function to restructure our data such that we have years for columns and monthes for rows."
   ]
  },
  {
   "cell_type": "code",
   "execution_count": null,
   "id": "0fc9f150-afd2-4e05-96b8-2b9d7245a2ba",
   "metadata": {},
   "outputs": [],
   "source": [
    "flights = flights.pivot(index=\"month\", columns=\"year\", values=\"passengers\")\n",
    "flights"
   ]
  },
  {
   "cell_type": "markdown",
   "id": "f4084715-c9ec-488b-91a8-a75a746bbeb8",
   "metadata": {},
   "source": [
    "Cluster map method plots a matrix dataset as a hierarchically-clustered heatmap. It uses hierarchical clusters to order data by similarity. This reorganizes the data for the rows and columns and displays similar content next to one another for even more depth of understanding the data."
   ]
  },
  {
   "cell_type": "code",
   "execution_count": null,
   "id": "4f5cb3ba-2701-472c-82a5-2f75686d4d51",
   "metadata": {},
   "outputs": [],
   "source": [
    "sns.clustermap( flights, linewidths=.5, cmap=\"coolwarm\");"
   ]
  },
  {
   "cell_type": "markdown",
   "id": "664e634c-c9d8-475b-91e5-23cc5a52cae4",
   "metadata": {},
   "source": [
    "As you can see in this map all the columns and rows that have similar data together and now neither the years nor the months are in order as we saw in the heatmap. We can modify it a bit and only cluster rows or columns, here is how :\n",
    "\n"
   ]
  },
  {
   "cell_type": "code",
   "execution_count": null,
   "id": "529a6021-e276-4627-946b-a32ad9bef167",
   "metadata": {},
   "outputs": [],
   "source": [
    "sns.clustermap( flights, linewidths=.5, cmap=\"coolwarm\", col_cluster=False);"
   ]
  },
  {
   "cell_type": "markdown",
   "id": "12d5aa8d-68e5-4447-a579-dc905ac537b4",
   "metadata": {},
   "source": [
    "---\n",
    "\n",
    "<br><br><br>\n",
    "\n",
    "references:\n",
    "\n",
    "- https://colab.research.google.com/github/jakevdp/PythonDataScienceHandbook/blob/master/notebooks/04.14-Visualization-With-Seaborn.ipynb#scrollTo=bfrwmah66vGL\n",
    "- https://github.com/oreillymedia/introduction-to-seaborn/blob/master/intro-to-seaborn.md"
   ]
  },
  {
   "cell_type": "code",
   "execution_count": null,
   "id": "bb89b91f-6908-42f7-8732-a8bcc3af496b",
   "metadata": {},
   "outputs": [],
   "source": []
  }
 ],
 "metadata": {
  "kernelspec": {
   "display_name": "Python 3 (ipykernel)",
   "language": "python",
   "name": "python3"
  },
  "language_info": {
   "codemirror_mode": {
    "name": "ipython",
    "version": 3
   },
   "file_extension": ".py",
   "mimetype": "text/x-python",
   "name": "python",
   "nbconvert_exporter": "python",
   "pygments_lexer": "ipython3",
   "version": "3.9.12"
  }
 },
 "nbformat": 4,
 "nbformat_minor": 5
}
