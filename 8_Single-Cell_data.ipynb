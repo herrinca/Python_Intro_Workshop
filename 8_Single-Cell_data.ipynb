{
 "cells": [
  {
   "cell_type": "markdown",
   "id": "a7f7a34d-1ccf-4b66-b3e0-3acb754882b0",
   "metadata": {},
   "source": [
    "# **Introduction** \n",
    "Up until now, we have been working with structured and pre-populated notebooks. In this particular notebook, we will take a different approach and test our skills by not providing the code explicitly. This exercise is designed to challenge you and enhance your understanding of assembling the various components required for data analysis with Python. By completing this exercise, you will gain a deeper understanding and build confidence in your ability to put together the necessary elements for effective data analysis."
   ]
  },
  {
   "cell_type": "markdown",
   "id": "9cd772ac-55b6-4763-85ca-483ebb9c9e6b",
   "metadata": {},
   "source": [
    "---\n",
    "\n",
    "# **Background**\n",
    "Single-cell RNA sequencing (scRNA-seq) is a technique used to analyze gene expression at the individual cell level. It provides a high-resolution view of gene expression patterns, allowing researchers to study cellular heterogeneity, identify cell types, and explore dynamic changes in gene expression. \n",
    "\n",
    "For this task, I have obtained a smaller version of a published single-cell RNA sequencing (scRNA-seq) dataset from a study on mouse fibroblast reprogramming (https://doi.org/10.1016/j.cell.2019.01.006). We will work with two files: one containing metadata about the cells, and the other containing the gene expression count data.\n",
    "\n",
    "\n",
    "\n",
    "\n"
   ]
  },
  {
   "cell_type": "markdown",
   "id": "377a8e7b-a51d-46bd-9ee0-ae70eb891b7a",
   "metadata": {},
   "source": [
    "\"\n",
    "./data/mouse_reprogramming_cell_features.csv\" and \"./data/mouse_reprogramming_exp.csv\"\n",
    "\n",
    "The features file contains the cell meta data and the exp file contains the expression data. "
   ]
  },
  {
   "cell_type": "markdown",
   "id": "01427f5b-aa11-46ab-acb7-b76773695460",
   "metadata": {},
   "source": [
    "## 1. Read in the data\n",
    "Check the data format and what data it contains"
   ]
  },
  {
   "cell_type": "code",
   "execution_count": 1,
   "id": "a30da6d9-31be-4f6f-b37e-eb08e6631c33",
   "metadata": {},
   "outputs": [],
   "source": [
    "# which modules do we need to read in a csv"
   ]
  },
  {
   "cell_type": "code",
   "execution_count": null,
   "id": "1845f9d8-ef98-4966-a940-6e20b0db0aba",
   "metadata": {},
   "outputs": [],
   "source": []
  },
  {
   "cell_type": "code",
   "execution_count": null,
   "id": "28989371-1a72-4057-9c9d-2835d833d545",
   "metadata": {},
   "outputs": [],
   "source": []
  },
  {
   "cell_type": "markdown",
   "id": "bb5a2fe4-466d-4f9a-9d37-26d5729577d0",
   "metadata": {},
   "source": [
    "## 2. How many cells were captured?\n",
    "How many replicates do we have and how many cells were captured in each. In the features dataframe, the replicates are under the 'batch' column. How many cell cells were captured in each batch? "
   ]
  },
  {
   "cell_type": "code",
   "execution_count": null,
   "id": "fe9bde24-16f2-4cc3-9429-0b364f9e8e87",
   "metadata": {},
   "outputs": [],
   "source": []
  },
  {
   "cell_type": "code",
   "execution_count": null,
   "id": "5e26f444-9321-4754-9122-b0fb84bc65e2",
   "metadata": {},
   "outputs": [],
   "source": []
  },
  {
   "cell_type": "markdown",
   "id": "a5b5e810-94b8-4ed9-ba80-cc6a0349b5d3",
   "metadata": {},
   "source": [
    "## 3. What is the total gene count per cell.\n",
    "What are distribution of total genes captured per cell per replicate?  "
   ]
  },
  {
   "cell_type": "code",
   "execution_count": null,
   "id": "96c68683-19e6-41c5-aeaa-d77f32f870eb",
   "metadata": {},
   "outputs": [],
   "source": []
  },
  {
   "cell_type": "code",
   "execution_count": null,
   "id": "2f978969-7fe2-4ef5-919f-6989a4379141",
   "metadata": {},
   "outputs": [],
   "source": []
  },
  {
   "cell_type": "code",
   "execution_count": null,
   "id": "1974c6a6-ace4-43ae-be9a-c1ad191e5297",
   "metadata": {},
   "outputs": [],
   "source": []
  },
  {
   "cell_type": "markdown",
   "id": "f324f08b-163b-4fd6-9b5c-a938c1e68a03",
   "metadata": {},
   "source": [
    "## 4. What is the mean variance relationship in the expression data "
   ]
  },
  {
   "cell_type": "code",
   "execution_count": null,
   "id": "9742a513-0b45-44c6-a5ef-178a25bb1558",
   "metadata": {},
   "outputs": [],
   "source": []
  },
  {
   "cell_type": "code",
   "execution_count": null,
   "id": "8130bf2b-4eaa-4b66-98b4-92c578e7052e",
   "metadata": {},
   "outputs": [],
   "source": []
  },
  {
   "cell_type": "markdown",
   "id": "9c75dcdd-e40d-498d-b470-8ad1f33d1035",
   "metadata": {},
   "source": [
    "## 5. Plot a clustermap of cells vs genes from the expression dataframe"
   ]
  },
  {
   "cell_type": "code",
   "execution_count": null,
   "id": "cb16ddfe-f412-44f9-9a66-eb40872a7206",
   "metadata": {},
   "outputs": [],
   "source": []
  },
  {
   "cell_type": "markdown",
   "id": "001afd48-e642-4675-9858-074c9cd2c109",
   "metadata": {},
   "source": []
  },
  {
   "cell_type": "markdown",
   "id": "456316c6-7a72-48b3-a3d1-55fedfa1399a",
   "metadata": {},
   "source": [
    "## 6. Plot a correlation clustermap of the cells"
   ]
  },
  {
   "cell_type": "code",
   "execution_count": null,
   "id": "2bc52406-c928-4489-991f-a02c71dbbc21",
   "metadata": {},
   "outputs": [],
   "source": []
  },
  {
   "cell_type": "code",
   "execution_count": null,
   "id": "7b498100-c933-4832-92e8-cb425940aa64",
   "metadata": {},
   "outputs": [],
   "source": []
  },
  {
   "cell_type": "code",
   "execution_count": null,
   "id": "b3b4016c-b6df-48cd-8351-ccc824ad57d1",
   "metadata": {},
   "outputs": [],
   "source": []
  }
 ],
 "metadata": {
  "kernelspec": {
   "display_name": "Python 3 (ipykernel)",
   "language": "python",
   "name": "python3"
  },
  "language_info": {
   "codemirror_mode": {
    "name": "ipython",
    "version": 3
   },
   "file_extension": ".py",
   "mimetype": "text/x-python",
   "name": "python",
   "nbconvert_exporter": "python",
   "pygments_lexer": "ipython3",
   "version": "3.9.12"
  }
 },
 "nbformat": 4,
 "nbformat_minor": 5
}
