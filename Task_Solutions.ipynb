{
 "cells": [
  {
   "cell_type": "code",
   "execution_count": null,
   "id": "8e47bcf7-7953-48ef-8cd9-f0429d1aed03",
   "metadata": {},
   "outputs": [],
   "source": []
  },
  {
   "cell_type": "code",
   "execution_count": null,
   "id": "949bb180-a610-4188-83ed-697e65656654",
   "metadata": {},
   "outputs": [],
   "source": []
  },
  {
   "cell_type": "markdown",
   "id": "bd108551-6069-48e5-bfff-f71e12db4991",
   "metadata": {},
   "source": [
    "#### *Task 1.2: 1) Evaluate the expression (15 - 4 * (6 / 2) + 8**2) step by step, following the order of operations. 2) Assign the result of each step to a new variable. 3) Compare your iterative solution to Python's evaluation of the full expression.*"
   ]
  },
  {
   "cell_type": "code",
   "execution_count": 2,
   "id": "df5088b6-43db-41f0-9133-abe64e654653",
   "metadata": {},
   "outputs": [
    {
     "data": {
      "text/plain": [
       "67.0"
      ]
     },
     "execution_count": 2,
     "metadata": {},
     "output_type": "execute_result"
    }
   ],
   "source": [
    "# Task 1.2\n",
    "step1 = (6 / 2)\n",
    "step2 = 8**2\n",
    "step3 = 4 * step1\n",
    "final = 15 - step3 + step2\n",
    "final"
   ]
  },
  {
   "cell_type": "markdown",
   "id": "21551519-6237-4eb2-bdc8-ca9bcd4df7c5",
   "metadata": {},
   "source": [
    "#### *Task 1.3: You were given a string which includes the path to 3 files by a labmate who is not concerned with your feelings:* \n",
    "1. Print the length of the file paths using an f-string\n",
    "2. The file types are wrong, change the file types from .txt to .csv\n",
    "3. The 4th directory should be \"dir/\" not \"to/\"\n",
    "4. Finally, separate the paths into 3 strings"
   ]
  },
  {
   "cell_type": "code",
   "execution_count": 4,
   "id": "4490b18d-b85f-4978-9b3a-a0f8595e03b6",
   "metadata": {},
   "outputs": [
    {
     "name": "stdout",
     "output_type": "stream",
     "text": [
      "The length of the file paths is: 97\n",
      "Updated File Paths:\n",
      "Path 1: /home/user/pathto/dir/file-1.csv\n",
      "Path 2: /home/user/pathto/dir/file-2.csv\n",
      "Path 3: /home/user/pathto/dir/file-3.csv\n"
     ]
    }
   ],
   "source": [
    "# Task 1.3\n",
    "file_paths = \"/home/user/pathto/to/file-1.txt, /home/user/pathto/to/file-2.txt, /home/user/pathto/to/file-3.txt\"\n",
    "\n",
    "# Print the length of the file paths using an f-string\n",
    "path_length = len(file_paths)\n",
    "print(f\"The length of the file paths is: {path_length}\")\n",
    "\n",
    "# Change the file types from .txt to .csv\n",
    "file_paths = file_paths.replace(\".txt\", \".csv\")\n",
    "\n",
    "# Replace the 4th directory from \"to/\" to \"dir/\"\n",
    "file_paths = file_paths.replace(\"/to/\", \"/dir/\")\n",
    "\n",
    "# Separate the paths into 3 strings\n",
    "paths_list = file_paths.split(\", \")\n",
    "path1, path2, path3 = paths_list\n",
    "\n",
    "print(\"Updated File Paths:\")\n",
    "print(\"Path 1:\", path1)\n",
    "print(\"Path 2:\", path2)\n",
    "print(\"Path 3:\", path3)"
   ]
  },
  {
   "cell_type": "code",
   "execution_count": null,
   "id": "5e11e837-f78f-4b90-a9b7-7f1fdc7e7803",
   "metadata": {},
   "outputs": [],
   "source": []
  },
  {
   "cell_type": "code",
   "execution_count": 5,
   "id": "625e5fc3-ab34-4d1f-9389-17a3cac56cc7",
   "metadata": {},
   "outputs": [
    {
     "name": "stdout",
     "output_type": "stream",
     "text": [
      "Original List of Countries: ['Germany', 'Canada', 'Japan', 'Brazil', 'Australia']\n",
      "Third Country: Canada\n",
      "Is 'Canada' in the list? True\n",
      "Original List Length: 6\n",
      "Copied List Length: 5\n",
      "Final List of Countries:\n",
      "Original List: ['Australia', 'Brazil', 'Canada', 'France', 'Germany', 'Japan']\n",
      "Copied List: ['Brazil', 'Canada', 'France', 'Germany', 'Japan']\n"
     ]
    }
   ],
   "source": [
    "# Task 1.5\n",
    "countries = [\"Germany\", \"Canada\", \"Japan\", \"Brazil\", \"Australia\"]\n",
    "\n",
    "print(\"Original List of Countries:\", countries)\n",
    "\n",
    "# Append a new country to the list\n",
    "countries.append(\"France\")\n",
    "\n",
    "# Sort the list in alphabetical order\n",
    "countries.sort()\n",
    "\n",
    "# Print the third country in the list\n",
    "print(\"Third Country:\", countries[2])\n",
    "\n",
    "# Check if a specific country is present in the list\n",
    "print(\"Is 'Canada' in the list?\", \"Canada\" in countries)\n",
    "\n",
    "# Create a copy of the list using the .copy() method\n",
    "countries_copy = countries.copy()\n",
    "\n",
    "# Remove a country from the copied list\n",
    "countries_copy.remove(\"Australia\")\n",
    "\n",
    "# Print the length of both the original and copied lists\n",
    "print(\"Original List Length:\", len(countries))\n",
    "print(\"Copied List Length:\", len(countries_copy))\n",
    "\n",
    "print(\"Final List of Countries:\")\n",
    "print(\"Original List:\", countries)\n",
    "print(\"Copied List:\", countries_copy)\n"
   ]
  },
  {
   "cell_type": "code",
   "execution_count": null,
   "id": "917942fc-b03a-4b62-aa92-ac2458c0b9f0",
   "metadata": {},
   "outputs": [],
   "source": []
  },
  {
   "cell_type": "code",
   "execution_count": null,
   "id": "78ce4746-f4c2-4316-9666-6a84952ab190",
   "metadata": {},
   "outputs": [],
   "source": []
  },
  {
   "cell_type": "code",
   "execution_count": null,
   "id": "97eafa08-b149-4aba-932c-632d5cddddfb",
   "metadata": {},
   "outputs": [],
   "source": []
  },
  {
   "cell_type": "code",
   "execution_count": null,
   "id": "9750872c-40ee-41fb-a2f9-d53809e22b60",
   "metadata": {},
   "outputs": [],
   "source": []
  },
  {
   "cell_type": "code",
   "execution_count": null,
   "id": "c0e359ff-1707-4afe-882d-d26134f73c0f",
   "metadata": {},
   "outputs": [],
   "source": []
  },
  {
   "cell_type": "code",
   "execution_count": null,
   "id": "cef120bf-e9f6-4d80-8298-64b0cdb92dcc",
   "metadata": {},
   "outputs": [],
   "source": []
  },
  {
   "cell_type": "code",
   "execution_count": null,
   "id": "cc97fdb3-d117-41ab-846f-147fd1be2e7c",
   "metadata": {},
   "outputs": [],
   "source": []
  },
  {
   "cell_type": "code",
   "execution_count": null,
   "id": "e2504a73-f956-4bf7-87cd-e5cf800df2c3",
   "metadata": {},
   "outputs": [],
   "source": []
  },
  {
   "cell_type": "code",
   "execution_count": null,
   "id": "6dd5a73b-88ca-47f0-96cc-9115728339e6",
   "metadata": {},
   "outputs": [],
   "source": []
  },
  {
   "cell_type": "markdown",
   "id": "969a4188-d494-4131-8f9d-03c4c986ebdc",
   "metadata": {},
   "source": [
    "Task 3.3: Using Built-in Modules\n",
    "Import the math module using the import keyword.\n",
    "\n",
    "Import the random module using the from keyword and import the randint function from it.\n",
    "\n",
    "Import all functions and variables from the os module using the from keyword and the * wildcard.\n",
    "\n",
    "Test each imported module/function:\n",
    "\n",
    "Use the math.sqrt() function to calculate the square root of a given number.\n",
    "\n",
    "Generate a random integer between 1 and 10 using the randint() function.\n",
    "\n",
    "Print the current working directory using the os.getcwd() function."
   ]
  },
  {
   "cell_type": "code",
   "execution_count": null,
   "id": "17c13a86-1806-429c-adb8-f8b9e2e8fdef",
   "metadata": {},
   "outputs": [],
   "source": [
    "# Task 3.3\n",
    "import math\n",
    "from random import randint\n",
    "from os import *\n",
    "\n",
    "number = 16\n",
    "\n",
    "# Calculate square root using math module\n",
    "sqrt_result = math.sqrt(number)\n",
    "print(\"Square root of\", number, \":\", sqrt_result)\n",
    "\n",
    "# Generate a random integer using random module\n",
    "random_number = randint(1, 10)\n",
    "print(\"Random number between 1 and 10:\", random_number)\n",
    "\n",
    "# Print current working directory using os module\n",
    "cwd = getcwd()\n",
    "print(\"Current working directory:\", cwd)\n",
    "\n",
    "# Change directory using os module\n",
    "new_directory = \"path/to/new_directory\"\n",
    "chdir(new_directory)\n",
    "print(\"Changed directory to:\", new_directory)\n"
   ]
  },
  {
   "cell_type": "code",
   "execution_count": null,
   "id": "5d9cdea3-07bd-438d-b46a-f73dceb75d43",
   "metadata": {},
   "outputs": [],
   "source": []
  }
 ],
 "metadata": {
  "kernelspec": {
   "display_name": "Python 3 (ipykernel)",
   "language": "python",
   "name": "python3"
  },
  "language_info": {
   "codemirror_mode": {
    "name": "ipython",
    "version": 3
   },
   "file_extension": ".py",
   "mimetype": "text/x-python",
   "name": "python",
   "nbconvert_exporter": "python",
   "pygments_lexer": "ipython3",
   "version": "3.9.12"
  }
 },
 "nbformat": 4,
 "nbformat_minor": 5
}
