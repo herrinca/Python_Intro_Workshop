{
 "cells": [
  {
   "cell_type": "code",
   "execution_count": 1,
   "id": "e250e1b3-7809-48b0-95f2-507992259a23",
   "metadata": {
    "jupyter": {
     "source_hidden": true
    },
    "tags": []
   },
   "outputs": [
    {
     "data": {
      "text/html": [
       "<style>table {align:left;display:block} </style>"
      ],
      "text/plain": [
       "<IPython.core.display.HTML object>"
      ]
     },
     "execution_count": 1,
     "metadata": {},
     "output_type": "execute_result"
    }
   ],
   "source": [
    "from IPython.core.display import HTML\n",
    "table_css = 'table {align:left;display:block} '\n",
    "HTML('<style>{}</style>'.format(table_css))"
   ]
  },
  {
   "cell_type": "markdown",
   "id": "18d3858f-71fb-4752-bac6-86722875c89d",
   "metadata": {},
   "source": [
    "# **ASI WA Python Workshop**"
   ]
  },
  {
   "cell_type": "markdown",
   "id": "b1e248e8-4d55-4910-a952-c605925785dc",
   "metadata": {},
   "source": [
    "## **Jupyter Notebook Tips**\n",
    "\n",
    "Outside of a cell:\n",
    "\n",
    "| key combo | action |\n",
    "| :--: | ---- |\n",
    "| shift+enter |  run a cell |\n",
    "| b |  insert cell below | \n",
    "| a |  insert cell above |\n",
    "| dd | delete selected cell |\n",
    "\n",
    "<br>\n",
    "Within a cell:\n",
    "\n",
    "| key combo | action |\n",
    "| :--: | ---- |\n",
    "| Command + / |  comment out line(s) |\n",
    "| Alt + Cursor | vertical selection |\n",
    "\n",
    "**Control = Command\n",
    "<br><br><br><br>"
   ]
  },
  {
   "cell_type": "markdown",
   "id": "749ef226-efc4-404e-ad70-fbec6fa14699",
   "metadata": {
    "tags": []
   },
   "source": [
    "## **Variables**\n",
    "Variables store data in a computer's memory by referring to specific memory addresses. When naming a variable, avoid starting with a number or using special characters or hyphens. While short names like x, y, z are acceptable, it's highly recommended to use more descriptive names such as firstname, lastname, age, or country.\n",
    "\n",
    "<br>\n",
    "\n",
    "**Python Variable Naming Rules:**\n",
    "- A variable name must start with a letter or the underscore character\n",
    "- A variable name cannot start with a number\n",
    "- A variable name can only contain alpha-numeric characters and underscores (A-z, 0-9, and _ )\n",
    "- Variable names are case-sensitive (firstname, Firstname, FirstName and FIRSTNAME) are different variables)\n",
    "\n",
    "<br>\n",
    "\n",
    "**Invalid Names**\n",
    "- firstname\n",
    "- lastname\n",
    "- age\n",
    "- country\n",
    "- first_name\n",
    "- last_name\n",
    "- year_2021\n",
    "- year2021\n",
    "- current_year_2021\n",
    "- num1\n",
    "- num2\n",
    "\n",
    "<br>\n",
    "\n",
    "**Valid Names**\n",
    "- first-name\n",
    "- first@name\n",
    "- first$name\n",
    "- num-1\n",
    "- 1num\n"
   ]
  },
  {
   "cell_type": "markdown",
   "id": "b623a836-7661-43b9-8801-f92f9529971d",
   "metadata": {},
   "source": [
    "### Assigning Values to Variables"
   ]
  },
  {
   "cell_type": "code",
   "execution_count": 89,
   "id": "9d64bdf1-6e39-4b95-a57c-b2a8fd047a51",
   "metadata": {},
   "outputs": [],
   "source": [
    "age      = 29      # integer assignment\n",
    "height   = 1.78    # float \n",
    "positive = False   # bool\n",
    "group    = \"C\"     # string"
   ]
  },
  {
   "cell_type": "code",
   "execution_count": 3,
   "id": "22dc24f0-743f-4993-be19-e427d1689f6f",
   "metadata": {},
   "outputs": [
    {
     "data": {
      "text/plain": [
       "(29, 1.78, False, 'C')"
      ]
     },
     "execution_count": 3,
     "metadata": {},
     "output_type": "execute_result"
    }
   ],
   "source": [
    "age, height, positive, group # when you do this Jupyter presents the variable values"
   ]
  },
  {
   "cell_type": "code",
   "execution_count": 95,
   "id": "176d7928-6dc8-47ce-9b09-e1f2815680c8",
   "metadata": {},
   "outputs": [
    {
     "name": "stdout",
     "output_type": "stream",
     "text": [
      "29 1.78 False C\n"
     ]
    }
   ],
   "source": [
    "# or you can use the print function\n",
    "print( age, height, positive, group)"
   ]
  },
  {
   "cell_type": "markdown",
   "id": "827a8560-3376-4d8c-8087-060b59ed03a9",
   "metadata": {},
   "source": [
    "### Multiple assignment is allowed but not always recommended, can be diffcult to read"
   ]
  },
  {
   "cell_type": "code",
   "execution_count": 96,
   "id": "72d22e46-c1a6-4ec1-b098-ea24f54ba73d",
   "metadata": {},
   "outputs": [
    {
     "name": "stdout",
     "output_type": "stream",
     "text": [
      "1 1 1\n"
     ]
    }
   ],
   "source": [
    "a = b = c = 1  # easy to read\n",
    "print( a, b, c)"
   ]
  },
  {
   "cell_type": "code",
   "execution_count": 97,
   "id": "757c8eb9-9679-4fc9-94df-1b4efd593746",
   "metadata": {},
   "outputs": [
    {
     "name": "stdout",
     "output_type": "stream",
     "text": [
      "29 1.78 True C\n"
     ]
    }
   ],
   "source": [
    "age, height, positive, group = 29, 1.78, True, \"C\" # more difficult to read\n",
    "print( age, height, positive, group)"
   ]
  },
  {
   "cell_type": "markdown",
   "id": "15111fba-296f-4a97-9af8-c0e386b20c24",
   "metadata": {},
   "source": [
    "### Deleting Variables"
   ]
  },
  {
   "cell_type": "code",
   "execution_count": 98,
   "id": "fde05ac8-a809-4054-a20b-64c1ccf2d6ca",
   "metadata": {},
   "outputs": [],
   "source": [
    "del a    # deleting one variable\n",
    "del b,c  # deleting multiple variables"
   ]
  },
  {
   "cell_type": "code",
   "execution_count": 8,
   "id": "5ce200f2-16f5-410d-9961-1c581ac7c48d",
   "metadata": {},
   "outputs": [
    {
     "ename": "NameError",
     "evalue": "name 'c' is not defined",
     "output_type": "error",
     "traceback": [
      "\u001b[0;31m---------------------------------------------------------------------------\u001b[0m",
      "\u001b[0;31mNameError\u001b[0m                                 Traceback (most recent call last)",
      "Input \u001b[0;32mIn [8]\u001b[0m, in \u001b[0;36m<cell line: 1>\u001b[0;34m()\u001b[0m\n\u001b[0;32m----> 1\u001b[0m \u001b[38;5;28mprint\u001b[39m(\u001b[43mc\u001b[49m)\n",
      "\u001b[0;31mNameError\u001b[0m: name 'c' is not defined"
     ]
    }
   ],
   "source": [
    "print(c)"
   ]
  },
  {
   "cell_type": "markdown",
   "id": "21ba2786-a4f6-4cb5-bc6a-970a1b561cb0",
   "metadata": {},
   "source": [
    "Note: Bool Variables are either `True` or `False`, not TRUE or FALSE as in R"
   ]
  },
  {
   "cell_type": "code",
   "execution_count": 9,
   "id": "6472ce23-6257-44c7-86e9-ad42bd87837e",
   "metadata": {},
   "outputs": [
    {
     "ename": "NameError",
     "evalue": "name 'TRUE' is not defined",
     "output_type": "error",
     "traceback": [
      "\u001b[0;31m---------------------------------------------------------------------------\u001b[0m",
      "\u001b[0;31mNameError\u001b[0m                                 Traceback (most recent call last)",
      "Input \u001b[0;32mIn [9]\u001b[0m, in \u001b[0;36m<cell line: 1>\u001b[0;34m()\u001b[0m\n\u001b[0;32m----> 1\u001b[0m positive \u001b[38;5;241m=\u001b[39m \u001b[43mTRUE\u001b[49m\n",
      "\u001b[0;31mNameError\u001b[0m: name 'TRUE' is not defined"
     ]
    }
   ],
   "source": [
    "positive = TRUE "
   ]
  },
  {
   "cell_type": "code",
   "execution_count": 10,
   "id": "b33b885c-788c-4f60-a9f5-490596747b0f",
   "metadata": {},
   "outputs": [],
   "source": [
    "positive  = True"
   ]
  },
  {
   "cell_type": "markdown",
   "id": "165c51d9-050a-4489-ba4a-fdb727b3e339",
   "metadata": {},
   "source": [
    "We can use built in functions to convert variables between types. In Python the syntax for calling a function looks like this:\n",
    "`function_name()`"
   ]
  },
  {
   "cell_type": "code",
   "execution_count": 99,
   "id": "d87eef2f-eb6c-425b-acb6-caf12667597b",
   "metadata": {},
   "outputs": [
    {
     "data": {
      "text/plain": [
       "(3.0, 5.0, 3.5)"
      ]
     },
     "execution_count": 99,
     "metadata": {},
     "output_type": "execute_result"
    }
   ],
   "source": [
    "# from int to float\n",
    "float(3), float(5), float('3.5')"
   ]
  },
  {
   "cell_type": "code",
   "execution_count": 100,
   "id": "f0673ca5-7216-47cb-92df-a2be27f74807",
   "metadata": {},
   "outputs": [
    {
     "data": {
      "text/plain": [
       "(3, 3, -35)"
      ]
     },
     "execution_count": 100,
     "metadata": {},
     "output_type": "execute_result"
    }
   ],
   "source": [
    "# from float to int will alway round down\n",
    "int(3.25), int(3.75), int('-35')"
   ]
  },
  {
   "cell_type": "code",
   "execution_count": 101,
   "id": "3b005410-c3b4-49de-8954-b5f62989df1d",
   "metadata": {},
   "outputs": [
    {
     "data": {
      "text/plain": [
       "(True, False, True, True)"
      ]
     },
     "execution_count": 101,
     "metadata": {},
     "output_type": "execute_result"
    }
   ],
   "source": [
    "# bool() converts any numerical value not equal to zero to True\n",
    "bool(-1.0), bool(0), bool(1.0), bool(3)"
   ]
  },
  {
   "cell_type": "code",
   "execution_count": 102,
   "id": "bdeb809b-66b6-4756-9a86-fb322dac90fb",
   "metadata": {},
   "outputs": [
    {
     "data": {
      "text/plain": [
       "('3.0', 'True', '100')"
      ]
     },
     "execution_count": 102,
     "metadata": {},
     "output_type": "execute_result"
    }
   ],
   "source": [
    "# Can convert and text to a string using str()\n",
    "str(3.0), str(True), str(100)"
   ]
  },
  {
   "cell_type": "markdown",
   "id": "33fbe056-3b2f-4a8f-a159-af50ff5ad255",
   "metadata": {},
   "source": [
    "We can check the type of a variable with the `type()` function"
   ]
  },
  {
   "cell_type": "code",
   "execution_count": 104,
   "id": "177e5935-8679-4dff-8520-ad7f66bb4eed",
   "metadata": {},
   "outputs": [
    {
     "name": "stdout",
     "output_type": "stream",
     "text": [
      "<class 'str'>\n",
      "<class 'float'>\n"
     ]
    }
   ],
   "source": [
    "var = '3.0'\n",
    "print( type(var))\n",
    "print( type(float(var)))"
   ]
  },
  {
   "attachments": {
    "5d4a3654-d7d8-4e9d-bf3e-7b98e2b88a00.jpg": {
     "image/jpeg": "[encoded data removed]"
    }
   },
   "cell_type": "markdown",
   "id": "7ec10ee4-66a0-42f6-9d7f-ead48420d1bb",
   "metadata": {},
   "source": [
    "---\n",
    "### **Keywords**\n",
    "Python has a set of keywords that are reserved words that cannot be used as variable names, function names, or any other identifiers:\n",
    "![examples-of-python-keywords---teachoo.jpg](attachment:5d4a3654-d7d8-4e9d-bf3e-7b98e2b88a00.jpg)\n"
   ]
  },
  {
   "cell_type": "markdown",
   "id": "ba6a39d9-eb8d-49b3-9772-79ddf1dcd530",
   "metadata": {},
   "source": [
    "---\n",
    "### **Use `?` for help**\n",
    "***At anytime you can use `?` prior to a variable, function, or etc to display help***"
   ]
  },
  {
   "cell_type": "code",
   "execution_count": 92,
   "id": "866b569c-b29e-46c2-b714-bb62618fba1d",
   "metadata": {},
   "outputs": [
    {
     "data": {
      "text/plain": [
       "\u001b[0;31mType:\u001b[0m        bool\n",
       "\u001b[0;31mString form:\u001b[0m False\n",
       "\u001b[0;31mNamespace:\u001b[0m   Python builtin\n",
       "\u001b[0;31mDocstring:\u001b[0m  \n",
       "bool(x) -> bool\n",
       "\n",
       "Returns True when the argument x is true, False otherwise.\n",
       "The builtins True and False are the only two instances of the class bool.\n",
       "The class bool is a subclass of the class int, and cannot be subclassed.\n"
      ]
     },
     "metadata": {},
     "output_type": "display_data"
    }
   ],
   "source": [
    "?False"
   ]
  },
  {
   "cell_type": "markdown",
   "id": "e677ecfc-4bf3-45f8-868a-23bc1650e76e",
   "metadata": {},
   "source": [
    "#### *Task 1.1: Variable Assignments*\n",
    "\n",
    "1. Create three variables: name, age, and country.\n",
    "\n",
    "2. Assign your name to the name variable.\n",
    "\n",
    "3. Assign your age to the age variable.\n",
    "\n",
    "4. Assign your country of residence to the country variable.\n",
    "\n",
    "5. Print the values of the variables using the print() function."
   ]
  },
  {
   "cell_type": "code",
   "execution_count": 108,
   "id": "fad967a8-94ab-4a7c-868e-7ad463d3ada7",
   "metadata": {},
   "outputs": [],
   "source": [
    "# Task 1.1\n",
    "\n",
    "\n"
   ]
  },
  {
   "attachments": {
    "74db3c0a-7026-4ef9-b0ce-7ffb8acb9ed7.png": {
     "image/png": "[encoded data removed]"
    }
   },
   "cell_type": "markdown",
   "id": "87751d12-ebfb-41b8-90ab-b5118ace62d6",
   "metadata": {
    "jp-MarkdownHeadingCollapsed": true,
    "tags": []
   },
   "source": [
    "---\n",
    "<br>\n",
    "\n",
    "## **Arithmetic Operators**\n",
    "![arithmetic_operators.png](attachment:74db3c0a-7026-4ef9-b0ce-7ffb8acb9ed7.png)"
   ]
  },
  {
   "cell_type": "markdown",
   "id": "f6eecef7-0a58-4e77-b3cc-78c99cd3b8f0",
   "metadata": {},
   "source": [
    "### Examples with integers"
   ]
  },
  {
   "cell_type": "code",
   "execution_count": 15,
   "id": "ee17c021-2fc0-4242-9a0e-a544be7fc8e7",
   "metadata": {},
   "outputs": [
    {
     "name": "stdout",
     "output_type": "stream",
     "text": [
      "Addition:  3\n",
      "Subtraction:  1\n",
      "Multiplication:  6\n",
      "Division:  2.0\n",
      "Division:  3.0\n",
      "Division:  3.5\n",
      "Exponentiation:  4\n",
      "Division without the remainder:  3\n",
      "Division without the remainder:  2\n",
      "Modulus:  1\n"
     ]
    }
   ],
   "source": [
    "print('Addition: ', 1 + 2)        # 3\n",
    "print('Subtraction: ', 2 - 1)     # 1\n",
    "print('Multiplication: ', 2 * 3)  # 6\n",
    "print ('Division: ', 4 / 2)       # 2.0  Division in Python gives floating number\n",
    "print('Division: ', 6 / 2)        # 3.0         \n",
    "print('Division: ', 7 / 2)        # 3.5\n",
    "print('Exponentiation: ', 2 ** 2) # 4 it means 2 * 2 * 2\n",
    "\n",
    "# Do not worry about these, they are rarely used\n",
    "print('Division without the remainder: ', 7 // 2)   # 3\n",
    "print ('Division without the remainder: ',7 // 3)   # 2\n",
    "print('Modulus: ', 3 % 2)         # 1, Gives the remainder"
   ]
  },
  {
   "cell_type": "markdown",
   "id": "6bb643ff-ab2e-4e38-b646-99533adbe4fb",
   "metadata": {},
   "source": [
    "### Combining variable assignments with operators\n",
    "Much easier to change the variable assignments rather than every individual number"
   ]
  },
  {
   "cell_type": "code",
   "execution_count": 16,
   "id": "3ccced3d-a863-4e75-b8ea-43d7cf7212c0",
   "metadata": {},
   "outputs": [
    {
     "name": "stdout",
     "output_type": "stream",
     "text": [
      "a + b = 15\n",
      "a - b = 5\n",
      "a * b = 50\n",
      "a / b = 2.0\n",
      "a**b  = 100000\n"
     ]
    }
   ],
   "source": [
    "# Assign variables\n",
    "a = 10 \n",
    "b = 5 \n",
    "\n",
    "# Arithmetic operations and assigning the result to a variable\n",
    "total = a + b\n",
    "diff = a - b\n",
    "product = a * b\n",
    "division = a / b\n",
    "exponential = a ** b\n",
    "\n",
    "# its easy to add a label to your print function so we know where the result is coming from\n",
    "print('a + b =', total)\n",
    "print('a - b =', diff)\n",
    "print('a * b =', product)\n",
    "print('a / b =', division)\n",
    "print('a**b  =', exponential)"
   ]
  },
  {
   "cell_type": "markdown",
   "id": "79438617-e7f2-468b-928a-665a43ab9aa0",
   "metadata": {},
   "source": [
    "<br>\n",
    "\n",
    "#### *Task 1.2: Arithmetic Operators on Different Datatypes*\n",
    "1) Copy the cell above and paste below. Change a and b variables to 2) numerical floats and 3) bool types.\n",
    "<br>\n",
    "<br>"
   ]
  },
  {
   "attachments": {
    "69d466ea-e764-4517-9ed7-f55e077a71e7.png": {
     "image/png": "[encoded data removed]"
    }
   },
   "cell_type": "markdown",
   "id": "aa9e1944-9bd1-4da4-8b19-cc7c4c7982a1",
   "metadata": {},
   "source": [
    "---\n",
    "### Order of operations matter, but mostly work as you would expect\n",
    "\n",
    "![order-of-operations.png](attachment:69d466ea-e764-4517-9ed7-f55e077a71e7.png)"
   ]
  },
  {
   "cell_type": "markdown",
   "id": "483971fa-33d5-4f33-97bc-08d1e8396db3",
   "metadata": {},
   "source": [
    "1) Parentheses: Operations within parentheses are evaluated first."
   ]
  },
  {
   "cell_type": "code",
   "execution_count": 17,
   "id": "304be030-4aa2-4b78-b6e7-75752b23b871",
   "metadata": {},
   "outputs": [
    {
     "data": {
      "text/plain": [
       "20"
      ]
     },
     "execution_count": 17,
     "metadata": {},
     "output_type": "execute_result"
    }
   ],
   "source": [
    "result = (2 + 3) * 4\n",
    "# The expression inside the parentheses (2 + 3) is evaluated first.\n",
    "# Then the result is multiplied by 4.\n",
    "result"
   ]
  },
  {
   "cell_type": "markdown",
   "id": "530fcc7c-a709-4ef7-9e56-7238dd6d7fc4",
   "metadata": {},
   "source": [
    "2) Exponentiation: Exponentiation is evaluated next."
   ]
  },
  {
   "cell_type": "code",
   "execution_count": 18,
   "id": "8c9b230d-99f0-457f-8930-47f51314b847",
   "metadata": {},
   "outputs": [
    {
     "data": {
      "text/plain": [
       "9"
      ]
     },
     "execution_count": 18,
     "metadata": {},
     "output_type": "execute_result"
    }
   ],
   "source": [
    "result = 2 ** 3 + 1\n",
    "# 2 raised to the power of 3 is calculated first (2 ** 3 = 8).\n",
    "# Then 1 is added to the result.\n",
    "result"
   ]
  },
  {
   "cell_type": "markdown",
   "id": "d99aac93-342b-499f-b35f-fad973bc7459",
   "metadata": {},
   "source": [
    "3) Multiplication and Division: Multiplication and division operations are evaluated from left to right."
   ]
  },
  {
   "cell_type": "code",
   "execution_count": 19,
   "id": "6034dda1-2c24-449f-9b60-c14da077a32c",
   "metadata": {},
   "outputs": [
    {
     "data": {
      "text/plain": [
       "15.0"
      ]
     },
     "execution_count": 19,
     "metadata": {},
     "output_type": "execute_result"
    }
   ],
   "source": [
    "result = 10 / 2 * 3\n",
    "# Division 10 / 2 is evaluated first (5.0).\n",
    "# Then the result is multiplied by 3.\n",
    "result"
   ]
  },
  {
   "cell_type": "markdown",
   "id": "f473eadb-1d8c-4f09-a3d8-07b6294050d2",
   "metadata": {},
   "source": [
    "4) Addition and Subtraction: Addition and subtraction operations are evaluated from left to right."
   ]
  },
  {
   "cell_type": "code",
   "execution_count": 20,
   "id": "41010bb8-26db-4353-a6d9-8d00f23eee97",
   "metadata": {},
   "outputs": [
    {
     "data": {
      "text/plain": [
       "4"
      ]
     },
     "execution_count": 20,
     "metadata": {},
     "output_type": "execute_result"
    }
   ],
   "source": [
    "result = 5 - 3 + 2\n",
    "# Subtraction 5 - 3 is evaluated first (2).\n",
    "# Then 2 is added to the result.\n",
    "result"
   ]
  },
  {
   "cell_type": "markdown",
   "id": "a4561cf6-1a84-4dd2-b3d8-fab8d60dde53",
   "metadata": {},
   "source": [
    "<br>\n",
    "\n",
    "#### *Task 1.3: Order of Operations*\n",
    "1) Evaluate the expression (15 - 4) × (6 ÷ 2) + 8² step by step, following the order of operations. 2) Assign the result of each step to a new variable. 3) Compare your iterative solution to Python's evaluation of the full expression.\n",
    "\n",
    "\n"
   ]
  },
  {
   "cell_type": "code",
   "execution_count": 109,
   "id": "3aee4ff4-1e5e-418b-bb76-5fcce89dfdcb",
   "metadata": {},
   "outputs": [],
   "source": [
    "# Task 1.3, lines can be uncommented using command+/\n",
    "# step1 = \n",
    "# step2 = \n",
    "# cont'd"
   ]
  },
  {
   "cell_type": "markdown",
   "id": "7dc2eaa5-63db-4ca1-9e28-b2e1c04b8100",
   "metadata": {},
   "source": [
    "<br>\n",
    "<br>"
   ]
  },
  {
   "cell_type": "code",
   "execution_count": 23,
   "id": "8233bbfc-c0d3-47ea-926e-68bacf896e86",
   "metadata": {},
   "outputs": [
    {
     "name": "stdout",
     "output_type": "stream",
     "text": [
      "A3\n",
      "3A\n"
     ]
    }
   ],
   "source": [
    "str1 = \"A\"\n",
    "str2 = \"3\"\n",
    "print( str1 + str2)\n",
    "print( str2 + str1)"
   ]
  },
  {
   "cell_type": "markdown",
   "id": "045ead39-ec23-4170-9074-1aac4cfc13f8",
   "metadata": {},
   "source": [
    "Arithmetic operators like subtraction (-), division (/), and exponentiation (**) are not applicable to strings in Python and would result in a TypeError."
   ]
  },
  {
   "cell_type": "code",
   "execution_count": 24,
   "id": "7f1705bd-7ad4-4086-bf44-b0df578a121b",
   "metadata": {},
   "outputs": [
    {
     "ename": "TypeError",
     "evalue": "unsupported operand type(s) for /: 'str' and 'str'",
     "output_type": "error",
     "traceback": [
      "\u001b[0;31m---------------------------------------------------------------------------\u001b[0m",
      "\u001b[0;31mTypeError\u001b[0m                                 Traceback (most recent call last)",
      "Input \u001b[0;32mIn [24]\u001b[0m, in \u001b[0;36m<cell line: 1>\u001b[0;34m()\u001b[0m\n\u001b[0;32m----> 1\u001b[0m \u001b[43mstr1\u001b[49m\u001b[43m \u001b[49m\u001b[38;5;241;43m/\u001b[39;49m\u001b[43m \u001b[49m\u001b[43mstr2\u001b[49m\n",
      "\u001b[0;31mTypeError\u001b[0m: unsupported operand type(s) for /: 'str' and 'str'"
     ]
    }
   ],
   "source": [
    "str1 / str2"
   ]
  },
  {
   "cell_type": "markdown",
   "id": "73bf0751-dbb9-4afb-bb4b-5c437c6620db",
   "metadata": {},
   "source": [
    "Strings can not be combined with other data types"
   ]
  },
  {
   "cell_type": "code",
   "execution_count": 25,
   "id": "b22f440d-d1e0-4daa-aed3-53b92b9c1ebc",
   "metadata": {},
   "outputs": [
    {
     "ename": "TypeError",
     "evalue": "can only concatenate str (not \"int\") to str",
     "output_type": "error",
     "traceback": [
      "\u001b[0;31m---------------------------------------------------------------------------\u001b[0m",
      "\u001b[0;31mTypeError\u001b[0m                                 Traceback (most recent call last)",
      "Input \u001b[0;32mIn [25]\u001b[0m, in \u001b[0;36m<cell line: 1>\u001b[0;34m()\u001b[0m\n\u001b[0;32m----> 1\u001b[0m \u001b[43mstr2\u001b[49m\u001b[43m \u001b[49m\u001b[38;5;241;43m+\u001b[39;49m\u001b[43m \u001b[49m\u001b[38;5;241;43m5\u001b[39;49m\n",
      "\u001b[0;31mTypeError\u001b[0m: can only concatenate str (not \"int\") to str"
     ]
    }
   ],
   "source": [
    "str2 + 5"
   ]
  },
  {
   "attachments": {
    "9c9aa5b1-84d4-4726-ae67-0eefc0dab0ad.png": {
     "image/png": "[encoded data removed]"
    }
   },
   "cell_type": "markdown",
   "id": "8d9f4819-f45c-4487-9fe1-40e2cf6d5e26",
   "metadata": {
    "tags": []
   },
   "source": [
    "---\n",
    "## **Plural Data Types**\n",
    "![python-data-types.png](attachment:9c9aa5b1-84d4-4726-ae67-0eefc0dab0ad.png)\n",
    "## Strings\n",
    "In computer programming, a string is a sequence of characters. For example, \"hello\" is a string containing a sequence of characters 'h', 'e', 'l', 'l', and 'o'. We can use single quotes or double quotes to represent a string in Python. For example,"
   ]
  },
  {
   "cell_type": "code",
   "execution_count": 26,
   "id": "fec28252-d095-4e1d-b90b-8097a105d487",
   "metadata": {},
   "outputs": [],
   "source": [
    "# create a string using double quotes\n",
    "string1 = \"Python programming\"\n",
    "\n",
    "# create a string using single quotes\n",
    "string1 = 'Python programming'"
   ]
  },
  {
   "cell_type": "markdown",
   "id": "d463874d-e0e2-4d45-af49-3f2821f288b4",
   "metadata": {},
   "source": [
    "We can concatenate two strings together with '+' operator"
   ]
  },
  {
   "cell_type": "code",
   "execution_count": 110,
   "id": "b667e557-025e-44d6-a716-8ef26c19007d",
   "metadata": {},
   "outputs": [
    {
     "name": "stdout",
     "output_type": "stream",
     "text": [
      "Python programming is weird\n"
     ]
    }
   ],
   "source": [
    "string2 = \"is weird\"\n",
    "\n",
    "print( string1 + ' ' + string2)"
   ]
  },
  {
   "cell_type": "markdown",
   "id": "9f90ec0f-d56a-4588-a2dd-cb06db602d7d",
   "metadata": {},
   "source": [
    "We can check the length of a string by using the function len()."
   ]
  },
  {
   "cell_type": "code",
   "execution_count": 28,
   "id": "fc83a19c-e9e4-4b6a-8033-a1b7068f12aa",
   "metadata": {},
   "outputs": [
    {
     "data": {
      "text/plain": [
       "5"
      ]
     },
     "execution_count": 28,
     "metadata": {},
     "output_type": "execute_result"
    }
   ],
   "source": [
    "string3 = 'Hello'\n",
    "len(string3)"
   ]
  },
  {
   "cell_type": "markdown",
   "id": "8f3cd7cd-6a2d-4789-b844-28fd06033d67",
   "metadata": {},
   "source": [
    "The multiplication operator (*) performs string repetition, replicating the string a specified number of times."
   ]
  },
  {
   "cell_type": "code",
   "execution_count": 29,
   "id": "f8daea54-c35c-47d0-89b3-631e6b89644c",
   "metadata": {},
   "outputs": [
    {
     "name": "stdout",
     "output_type": "stream",
     "text": [
      "HelloHelloHelloHelloHello\n",
      "25\n"
     ]
    }
   ],
   "source": [
    "print( string3 * 5)\n",
    "print( len( string3 * 5))"
   ]
  },
  {
   "cell_type": "markdown",
   "id": "d565b5e8-62ec-4df6-8719-004831240011",
   "metadata": {},
   "source": [
    "Python f-Strings make it really easy to print values and combine variables. "
   ]
  },
  {
   "cell_type": "code",
   "execution_count": 105,
   "id": "63bd6e5d-386a-411e-98bb-07b34ad4a650",
   "metadata": {},
   "outputs": [
    {
     "name": "stdout",
     "output_type": "stream",
     "text": [
      "Cathy is from UK\n"
     ]
    }
   ],
   "source": [
    "name = 'Cathy'\n",
    "country = 'UK'\n",
    "\n",
    "where_from = f'{name} is from {country}' \n",
    "\n",
    "print( where_from)"
   ]
  },
  {
   "cell_type": "markdown",
   "id": "0f1064e5-7ef5-462c-884a-70c0a8d60830",
   "metadata": {},
   "source": [
    "We can also insert functions in f-strings. "
   ]
  },
  {
   "cell_type": "code",
   "execution_count": 106,
   "id": "4f037568-ea42-4bb3-8c95-2a9dbfda953d",
   "metadata": {},
   "outputs": [
    {
     "name": "stdout",
     "output_type": "stream",
     "text": [
      "Hello has a length of 5 characters\n"
     ]
    }
   ],
   "source": [
    "print( f\"{string3} has a length of {len(string3)} characters\")"
   ]
  },
  {
   "cell_type": "markdown",
   "id": "27d7f094-1049-479b-bcd3-80c8d60d8686",
   "metadata": {},
   "source": [
    "#### *Task 1.4: String Manipulation*\n",
    "\n",
    "1. Create two variables: name and age.\n",
    "\n",
    "2. Assign your name to the name variable and your age to the age variable.\n",
    "\n",
    "3. Use the + operator to concatenate the name and age variables together into a new variable called message.\n",
    "\n",
    "4. Use the * operator to repeat the message variable three times and assign the result to a new variable called repeated_message.\n",
    "\n",
    "5. Use an f-string to create a final message that includes the name, age, and the repeated_message. Print the final message."
   ]
  },
  {
   "cell_type": "code",
   "execution_count": 111,
   "id": "1585d195-1f07-4dd0-b0f5-9c29c5150121",
   "metadata": {},
   "outputs": [],
   "source": [
    "# Task 1.4\n",
    "\n"
   ]
  },
  {
   "cell_type": "markdown",
   "id": "fa78d513-7f45-49e9-bf60-d1da6d922e97",
   "metadata": {},
   "source": [
    "---\n",
    "\n",
    "### String Methods\n",
    "There are many string methods which allow us to format strings. I have highlighted some below:"
   ]
  },
  {
   "cell_type": "code",
   "execution_count": 117,
   "id": "42d36269-1685-434e-a03e-076b4c034c3c",
   "metadata": {},
   "outputs": [],
   "source": [
    "# assign a long string to work with\n",
    "sentence = \"the quick brown fox jumps over the lazy dog\""
   ]
  },
  {
   "cell_type": "markdown",
   "id": "87cb0a7e-6502-46ae-817b-4f0e893b3805",
   "metadata": {},
   "source": [
    "1. capitalize(): Converts the first character of the string to capital letter"
   ]
  },
  {
   "cell_type": "code",
   "execution_count": 118,
   "id": "5923d716-a991-4f1d-870a-5e38b2733341",
   "metadata": {},
   "outputs": [
    {
     "name": "stdout",
     "output_type": "stream",
     "text": [
      "the quick brown fox jumps over the lazy dog\n",
      "The quick brown fox jumps over the lazy dog\n"
     ]
    }
   ],
   "source": [
    "print(sentence)\n",
    "print(sentence.capitalize())"
   ]
  },
  {
   "cell_type": "markdown",
   "id": "69eb83fa-0b10-40f9-8b20-ad7f8463ed07",
   "metadata": {},
   "source": [
    "2. replace(): Replaces substring with a given string"
   ]
  },
  {
   "cell_type": "code",
   "execution_count": 119,
   "id": "145ca157-ad78-4394-96d9-1ce2f824e14e",
   "metadata": {},
   "outputs": [
    {
     "name": "stdout",
     "output_type": "stream",
     "text": [
      "the quick brown fox jumps over the lazy dog\n",
      "the quick red fox jumps over the lazy dog\n"
     ]
    }
   ],
   "source": [
    "print(sentence)\n",
    "print(sentence.replace('brown', 'red'))"
   ]
  },
  {
   "cell_type": "markdown",
   "id": "7e104d5e-b876-43e3-8c5b-2d259e38d97b",
   "metadata": {},
   "source": [
    "3. split(): Splits the string, using given string or space as a separator"
   ]
  },
  {
   "cell_type": "code",
   "execution_count": 121,
   "id": "72370f23-bc1e-4fc6-b6e0-ee1747bc2d93",
   "metadata": {},
   "outputs": [
    {
     "name": "stdout",
     "output_type": "stream",
     "text": [
      "the quick brown fox jumps over the lazy dog\n",
      "['the quick brown fox ', ' over the lazy dog']\n"
     ]
    }
   ],
   "source": [
    "print(sentence)\n",
    "print(sentence.split('jumps'))"
   ]
  },
  {
   "cell_type": "markdown",
   "id": "822386be-13d0-47b0-a1eb-d6f8d132a0e9",
   "metadata": {},
   "source": [
    "4. startswith(): Checks if String Starts with the Specified String"
   ]
  },
  {
   "cell_type": "code",
   "execution_count": 122,
   "id": "1831166c-e9b2-4bf6-ad47-d5acf7c70312",
   "metadata": {},
   "outputs": [
    {
     "name": "stdout",
     "output_type": "stream",
     "text": [
      "False\n",
      "False\n",
      "True\n"
     ]
    }
   ],
   "source": [
    "print( sentence.startswith('Z')) # False, checks first character\n",
    "print( sentence.startswith('T')) # False, capitalization matters\n",
    "print( sentence.startswith('t'))"
   ]
  },
  {
   "cell_type": "markdown",
   "id": "e2e94118-f308-4320-a720-51ee21edb904",
   "metadata": {},
   "source": [
    "<br>\n",
    "\n",
    "#### *Task 1.5: String Methods*\n",
    "You were given a string which includes the path to 3 files by a labmate who is not concerned with your feelings: \n",
    "1. Print the length of the file_paths\n",
    "2. The file types are wrong, change the file types from .txt to .csv\n",
    "3. The 4th directory should be \"dir/\" not \"to/\"\n",
    "4. Finally, separate the paths into 3 strings and assign them to 3 new variables"
   ]
  },
  {
   "cell_type": "code",
   "execution_count": 123,
   "id": "4690beb2-0b09-434c-82d7-3818ba1aaaef",
   "metadata": {},
   "outputs": [],
   "source": [
    "# Task 1.5\n",
    "file_paths = \"/home/user/pathto/to/file-1.txt, /home/user/pathto/to/file-2.txt, /home/user/pathto/to/file-3.txt\""
   ]
  },
  {
   "cell_type": "markdown",
   "id": "0778451e-cc55-4cdb-bb3e-21fd86959e97",
   "metadata": {},
   "source": [
    "---\n",
    "<br>\n",
    "\n",
    "## Extracting characters from strings as an introduction to indexing\n",
    "The simplest way of extracting single characters from strings (and individual members from any sequence) is to unpack them into corresponding variables."
   ]
  },
  {
   "cell_type": "code",
   "execution_count": 38,
   "id": "481b8740-ce31-4f04-8c9e-0a46fcfd41f1",
   "metadata": {},
   "outputs": [
    {
     "name": "stdout",
     "output_type": "stream",
     "text": [
      "P\n",
      "y\n",
      "t\n",
      "h\n",
      "o\n",
      "n\n"
     ]
    }
   ],
   "source": [
    "language = 'Python'\n",
    "a,b,c,d,e,f = language # unpacking sequence characters into variables\n",
    "\n",
    "print(a) # P\n",
    "print(b) # y\n",
    "print(c) # t\n",
    "print(d) # h\n",
    "print(e) # o\n",
    "print(f) # n"
   ]
  },
  {
   "attachments": {
    "94f88eef-5945-4448-aed1-5dcd10682218.jpg": {
     "image/jpeg": "[encoded data removed]"
    }
   },
   "cell_type": "markdown",
   "id": "bd9ab1f4-35ce-4bcc-859f-cea7b064e0bf",
   "metadata": {},
   "source": [
    "<br>\n",
    "We can also access the characters in a string in three main ways:\n",
    "\n",
    "1. Indexing\n",
    "2. Negative Indexing\n",
    "3. Slicing\n",
    "<br>\n",
    "\n",
    "### Indexing\n",
    "In Python counting starts from **!!! ZERO !!!** Therefore the first letter of a string is at the **zero** index.\n",
    "\n",
    "![positive-and-negative-indexing.jpg](attachment:94f88eef-5945-4448-aed1-5dcd10682218.jpg)"
   ]
  },
  {
   "cell_type": "code",
   "execution_count": 39,
   "id": "a38e7a27-2bab-4553-a59a-e738f5f6b2fb",
   "metadata": {},
   "outputs": [
    {
     "name": "stdout",
     "output_type": "stream",
     "text": [
      "P\n",
      "y\n",
      "t\n",
      "h\n",
      "o\n",
      "n\n"
     ]
    }
   ],
   "source": [
    "print(language[0]) # P\n",
    "print(language[1]) # y\n",
    "print(language[2]) # t\n",
    "print(language[3]) # h\n",
    "print(language[4]) # o\n",
    "print(language[5]) # n"
   ]
  },
  {
   "cell_type": "markdown",
   "id": "c853255f-dec5-4edf-bee2-e643d27d2c01",
   "metadata": {},
   "source": [
    "### Negative Indexing\n",
    "If we want to start from right end we can use negative indexing. -1 is the last index."
   ]
  },
  {
   "cell_type": "code",
   "execution_count": 40,
   "id": "ab01d806-9718-4674-8187-3854b13042a8",
   "metadata": {},
   "outputs": [
    {
     "name": "stdout",
     "output_type": "stream",
     "text": [
      "n\n",
      "o\n",
      "h\n",
      "t\n",
      "y\n",
      "P\n"
     ]
    }
   ],
   "source": [
    "print(language[-1]) # n\n",
    "print(language[-2]) # o\n",
    "print(language[-3]) # h\n",
    "print(language[-4]) # t\n",
    "print(language[-5]) # y\n",
    "print(language[-6]) # P"
   ]
  },
  {
   "attachments": {
    "d9e28aa4-fd91-4d43-b975-ab5f02f86bc7.png": {
     "image/png": "[encoded data removed]"
    }
   },
   "cell_type": "markdown",
   "id": "a7547b96-e624-4ec9-972c-3cc012ec0cda",
   "metadata": {},
   "source": [
    "### Slicing\n",
    "We can access a range of characters in a string by using the slicing operator colon `:`. For example `string[m:n]` gives us the characters from m up through but not including n, from m to n-1.\n",
    "\n",
    "\n",
    "![string_slicing.png](attachment:d9e28aa4-fd91-4d43-b975-ab5f02f86bc7.png)\n",
    "\n"
   ]
  },
  {
   "cell_type": "code",
   "execution_count": 41,
   "id": "d3945250-cc17-45f9-a5bc-9fc7afc2d7a5",
   "metadata": {},
   "outputs": [
    {
     "name": "stdout",
     "output_type": "stream",
     "text": [
      "Pyth\n"
     ]
    }
   ],
   "source": [
    "# Python\n",
    "print(language[:4]) # 1st character to 4th  "
   ]
  },
  {
   "cell_type": "code",
   "execution_count": 42,
   "id": "263554db-b575-4ec2-9d55-59944ad3b65c",
   "metadata": {},
   "outputs": [
    {
     "name": "stdout",
     "output_type": "stream",
     "text": [
      "thon\n"
     ]
    }
   ],
   "source": [
    "print(language[2:]) # from 2nd character to last"
   ]
  },
  {
   "cell_type": "code",
   "execution_count": 43,
   "id": "a4037e53-501e-4f1b-b257-e604c1404c24",
   "metadata": {},
   "outputs": [
    {
     "name": "stdout",
     "output_type": "stream",
     "text": [
      "th\n"
     ]
    }
   ],
   "source": [
    "print(language[2:4]) # from 2nd character to 4th"
   ]
  },
  {
   "cell_type": "code",
   "execution_count": 44,
   "id": "d833440f-fa09-41c7-9f5b-09d7aab2d915",
   "metadata": {},
   "outputs": [
    {
     "name": "stdout",
     "output_type": "stream",
     "text": [
      "th\n"
     ]
    }
   ],
   "source": [
    "# We can combine Indexing and Negative indexing\n",
    "print(language[2:-2])"
   ]
  },
  {
   "cell_type": "code",
   "execution_count": 45,
   "id": "8ce68e9e-8a23-4ff9-babd-6c8e2dd379f4",
   "metadata": {},
   "outputs": [
    {
     "name": "stdout",
     "output_type": "stream",
     "text": [
      "Python\n"
     ]
    }
   ],
   "source": [
    "##################################\n",
    "# how would you print 'ytho'?\n",
    "print(language[:])\n",
    "##################################"
   ]
  },
  {
   "cell_type": "markdown",
   "id": "5f5ecdc6-f965-4b11-8017-e858a2a744ba",
   "metadata": {},
   "source": [
    "<br>\n",
    "\n",
    "#### *Task 1.6: String Indexing and Slicing*\n",
    "Using the sentence below:\n",
    "\n",
    "1. Use indexing to access and print the first character of the string.\n",
    "\n",
    "2. Use negative indexing to access and print the last character of the string.\n",
    "\n",
    "3. Use slicing to print a substring that includes the first three characters of the string.\n",
    "\n",
    "4. Use slicing to print a substring that includes the last three characters of the string."
   ]
  },
  {
   "cell_type": "code",
   "execution_count": 125,
   "id": "ffd11cfa-b787-4c0c-a91a-661417d5e026",
   "metadata": {},
   "outputs": [],
   "source": [
    "# Task 1.6\n",
    "sentence = \"Hello, world!\"\n",
    "\n"
   ]
  },
  {
   "cell_type": "markdown",
   "id": "e732be19-cd27-40ce-8d5d-7529936071b3",
   "metadata": {},
   "source": [
    "### Reversing a String \n",
    "\n",
    "*string[::-1]*\n",
    "\n",
    "This is very handy, but its easier to accept this as fact than to rationalize why it works at this point. "
   ]
  },
  {
   "cell_type": "code",
   "execution_count": 126,
   "id": "f3afffb6-c36a-4ce7-bf34-8ef6af0b0803",
   "metadata": {},
   "outputs": [
    {
     "name": "stdout",
     "output_type": "stream",
     "text": [
      "!dlroW ,olleH\n"
     ]
    }
   ],
   "source": [
    "greeting = 'Hello, World!'\n",
    "print(greeting[::-1]) # !dlroW ,olleH"
   ]
  },
  {
   "cell_type": "markdown",
   "id": "ac5791ab-b066-4b30-8707-e8287ab7a2af",
   "metadata": {},
   "source": [
    "### Skipping Characters While Slicing\n",
    "It is possible to skip characters while slicing by passing step argument to slice method. This is rarely used. \n",
    "\n",
    "*string[start:stop:step]*"
   ]
  },
  {
   "cell_type": "code",
   "execution_count": 127,
   "id": "35ed7907-0c87-4b3b-9562-f68ee5e9d26e",
   "metadata": {},
   "outputs": [
    {
     "name": "stdout",
     "output_type": "stream",
     "text": [
      "Python\n",
      "Pto\n",
      "Ph\n"
     ]
    }
   ],
   "source": [
    "print( language[0:6:1]) # step of 1\n",
    "print( language[0:6:2]) # step of 2\n",
    "print( language[0:6:3]) # step of 3"
   ]
  },
  {
   "cell_type": "markdown",
   "id": "c96d8c3c-b353-4591-8a5d-a3d7050b8166",
   "metadata": {},
   "source": [
    "<br>\n",
    "\n",
    "#### *Task 1.7: Reverse and slice a palindrome*\n",
    "1. slice out \"pet\" with negative indexing\n",
    "2. reverse the palindrome and save to new variable\n",
    "3. slice out \"eS\" in the reversed palindrome\n",
    "<br>"
   ]
  },
  {
   "cell_type": "code",
   "execution_count": 131,
   "id": "2d1ef8f5-a377-45f3-9947-4b8eb9a87ce1",
   "metadata": {},
   "outputs": [],
   "source": [
    "# Task 1.7\n",
    "palindrome = \"Step on no pets\"\n",
    "\n"
   ]
  },
  {
   "cell_type": "markdown",
   "id": "0868f633-0196-4b46-899d-3927dec79a28",
   "metadata": {},
   "source": [
    "<br><br>\n",
    "\n"
   ]
  },
  {
   "cell_type": "markdown",
   "id": "29c23caa-a595-4b30-bb7a-5268b0f4ec98",
   "metadata": {},
   "source": [
    "---\n",
    "## **Lists**\n",
    "In Python, lists are used to store multiple values at once. We create a list by placing elements inside square brackets `[]`, separated by commas. For example, "
   ]
  },
  {
   "cell_type": "code",
   "execution_count": 49,
   "id": "949ea528-c76c-4dde-be84-1d2d3c6c9e09",
   "metadata": {},
   "outputs": [],
   "source": [
    "ages = [19, 26, 23]"
   ]
  },
  {
   "cell_type": "markdown",
   "id": "d1a2fda2-5a96-4d64-a8c5-f46fad80551b",
   "metadata": {},
   "source": [
    "A list can be empty "
   ]
  },
  {
   "cell_type": "code",
   "execution_count": 50,
   "id": "f0dfc5b5-1701-4bfe-8b84-7a2be072f647",
   "metadata": {},
   "outputs": [],
   "source": [
    "empty_list = []"
   ]
  },
  {
   "cell_type": "markdown",
   "id": "7dc30efb-ad36-4ef5-8726-1580db1ed807",
   "metadata": {},
   "source": [
    "or it may have different data type elements  "
   ]
  },
  {
   "cell_type": "code",
   "execution_count": 51,
   "id": "950549fd-2403-4f63-8d0c-f08440541912",
   "metadata": {},
   "outputs": [],
   "source": [
    "# list with elements of different data types\n",
    "mixed_list = [1, \"Hello\", 3.4, True]"
   ]
  },
  {
   "cell_type": "markdown",
   "id": "fe50eb02-bb1c-48ba-89a6-c8f656c5e9fa",
   "metadata": {},
   "source": [
    "Lists are ordered like a string, which means we can index them in the same ways. But instead of returning characters list return objects or elements."
   ]
  },
  {
   "cell_type": "code",
   "execution_count": 132,
   "id": "3ef03b0b-e133-45f4-967d-3b44d0f6570b",
   "metadata": {},
   "outputs": [
    {
     "name": "stdout",
     "output_type": "stream",
     "text": [
      "Hello\n",
      "['Hello', 3.4]\n"
     ]
    }
   ],
   "source": [
    "print(mixed_list[1])\n",
    "print(mixed_list[1:3])"
   ]
  },
  {
   "cell_type": "markdown",
   "id": "f714e233-613f-4f12-830a-a1d4046fd723",
   "metadata": {},
   "source": [
    "Lists can also be multiplied and concated"
   ]
  },
  {
   "cell_type": "code",
   "execution_count": 139,
   "id": "a6c8c183-7825-44d3-ab8c-28ee20aa8be1",
   "metadata": {},
   "outputs": [
    {
     "name": "stdout",
     "output_type": "stream",
     "text": [
      "Untouched: [1, 1, 1]\n",
      "Multiplied: [1, 1, 1, 1, 1, 1, 1, 1, 1]\n",
      "Concated: [1, 1, 1, 2, 2]\n"
     ]
    }
   ],
   "source": [
    "ones = [1, 1, 1]\n",
    "print('Untouched:', ones)\n",
    "print('Multiplied:', ones * 3)\n",
    "print('Concated:', ones + [2, 2])"
   ]
  },
  {
   "cell_type": "markdown",
   "id": "bafa6603-6be9-4328-a719-2ac37d4c930e",
   "metadata": {},
   "source": [
    "Lists can also be nested, creating a lists-of-lists."
   ]
  },
  {
   "cell_type": "code",
   "execution_count": 54,
   "id": "7c6fcea3-7849-4657-b465-70d25aae8d05",
   "metadata": {},
   "outputs": [],
   "source": [
    "nested_list = [[0,1],[2,3,4]] # a list of lists\n",
    "stupid_list = [[0,1],[[2,3,4],['A','B','C','D']]] # a list which contains a list and a list of lists"
   ]
  },
  {
   "cell_type": "code",
   "execution_count": 55,
   "id": "40beb998-6960-4925-942c-2f076e3bbaef",
   "metadata": {},
   "outputs": [
    {
     "data": {
      "text/plain": [
       "[2, 3, 4]"
      ]
     },
     "execution_count": 55,
     "metadata": {},
     "output_type": "execute_result"
    }
   ],
   "source": [
    "nested_list[-1] # returns last list "
   ]
  },
  {
   "cell_type": "code",
   "execution_count": 56,
   "id": "5e242895-4798-4318-aac1-d3ed27ca6718",
   "metadata": {},
   "outputs": [
    {
     "data": {
      "text/plain": [
       "2"
      ]
     },
     "execution_count": 56,
     "metadata": {},
     "output_type": "execute_result"
    }
   ],
   "source": [
    "nested_list[-1][0] # returns first element of last list"
   ]
  },
  {
   "cell_type": "code",
   "execution_count": 57,
   "id": "9a917754-9df1-4318-8ef5-c826ca7ab863",
   "metadata": {},
   "outputs": [
    {
     "data": {
      "text/plain": [
       "[[2, 3, 4], ['A', 'B', 'C', 'D']]"
      ]
     },
     "execution_count": 57,
     "metadata": {},
     "output_type": "execute_result"
    }
   ],
   "source": [
    "stupid_list[-1] # returns our list of lists"
   ]
  },
  {
   "cell_type": "code",
   "execution_count": 58,
   "id": "abcc8064-cbb2-4562-9ffe-432d85cc8b1d",
   "metadata": {},
   "outputs": [
    {
     "data": {
      "text/plain": [
       "['B', 'C']"
      ]
     },
     "execution_count": 58,
     "metadata": {},
     "output_type": "execute_result"
    }
   ],
   "source": [
    "stupid_list[-1][1][1:3] "
   ]
  },
  {
   "cell_type": "markdown",
   "id": "4d3abf85-9b94-45a9-8435-957c99c329bf",
   "metadata": {},
   "source": [
    "<br>\n",
    "\n",
    "#### *Task 1.8: Indexing Nested Lists*\n",
    "\n",
    "1. Create a list called nested_list that contains at three nested lists. Each nested list should have different elements.\n",
    "\n",
    "2. Use indexing to access and print the first element of the first nested list.\n",
    "\n",
    "3. Use indexing to access and print the last element of the second nested list.\n",
    "\n",
    "4. Use indexing to access and print the middle element from the third nested list."
   ]
  },
  {
   "cell_type": "code",
   "execution_count": 142,
   "id": "e7393fb0-0774-4761-a40a-6e765bbb4384",
   "metadata": {},
   "outputs": [],
   "source": [
    "# Task 1.8\n",
    "\n"
   ]
  },
  {
   "attachments": {
    "2de265c9-1fc5-49e2-8b21-33ee8c5172ec.png": {
     "image/png": "[encoded data removed]"
    }
   },
   "cell_type": "markdown",
   "id": "21de3715-8ecc-4747-8f4a-42d607fb6043",
   "metadata": {},
   "source": [
    "---\n",
    "### List Methods\n",
    "Like strings, lists have many built in methods.\n",
    "\n",
    "![List_methods.png](attachment:2de265c9-1fc5-49e2-8b21-33ee8c5172ec.png)\n",
    "\n",
    "1. `len()` to get the length of a list"
   ]
  },
  {
   "cell_type": "code",
   "execution_count": null,
   "id": "8136ac2d-b015-44c8-b827-d6ea99cb68a1",
   "metadata": {},
   "outputs": [
    {
     "name": "stdout",
     "output_type": "stream",
     "text": [
      "4\n"
     ]
    }
   ],
   "source": [
    "list1 = [0,1,2,3]\n",
    "print(len(list1))"
   ]
  },
  {
   "cell_type": "markdown",
   "id": "cad9ba3c-287c-4728-9b95-af61f80c6035",
   "metadata": {},
   "source": [
    "The `len()` only counts the elements regardless of their type, so a nested list containing 2 lists will have a length of 2. "
   ]
  },
  {
   "cell_type": "code",
   "execution_count": 143,
   "id": "e634edab-ca90-4a88-ac82-722ceb3c9f34",
   "metadata": {},
   "outputs": [
    {
     "name": "stdout",
     "output_type": "stream",
     "text": [
      "2\n"
     ]
    }
   ],
   "source": [
    "list2 = [[0,1],[2,3]]\n",
    "print(len(list2))"
   ]
  },
  {
   "cell_type": "markdown",
   "id": "ce8e0254-f090-4f5f-923e-4476cd2b1458",
   "metadata": {},
   "source": [
    "2. `index()` returns the index of the first matched item"
   ]
  },
  {
   "cell_type": "code",
   "execution_count": 144,
   "id": "1a81d36e-999c-4cf2-beea-61c139d2479a",
   "metadata": {},
   "outputs": [
    {
     "data": {
      "text/plain": [
       "1"
      ]
     },
     "execution_count": 144,
     "metadata": {},
     "output_type": "execute_result"
    }
   ],
   "source": [
    "list3 = ['Hello', True, 3.0]\n",
    "list3.index(True)"
   ]
  },
  {
   "cell_type": "markdown",
   "id": "3d71460a-0c8d-4290-b839-454d5f2ed63f",
   "metadata": {},
   "source": [
    "3.`count()` returns the count of the specified item in the list"
   ]
  },
  {
   "cell_type": "code",
   "execution_count": 147,
   "id": "d273b919-1b9b-49d8-9266-321e553b5dfb",
   "metadata": {},
   "outputs": [
    {
     "name": "stdout",
     "output_type": "stream",
     "text": [
      "1.0 = 0\n",
      "  c = 1\n"
     ]
    }
   ],
   "source": [
    "list4 = [1.0,'b','c',1.0,1.0]\n",
    "\n",
    "print( '1.0 =', list4.count('a'))\n",
    "print( '  c =', list4.count('c'))"
   ]
  },
  {
   "cell_type": "markdown",
   "id": "e1b62f9f-6155-491f-b8c5-d5248ffaf621",
   "metadata": {},
   "source": [
    "4. The `sort()` function sorts the list in ascending/descending order **in-place**. In-place means that the variable is altered directly without the need for reassignment."
   ]
  },
  {
   "cell_type": "code",
   "execution_count": 148,
   "id": "f3181476-7d06-4c26-af92-5cd8324f9f84",
   "metadata": {},
   "outputs": [
    {
     "name": "stdout",
     "output_type": "stream",
     "text": [
      "[3, 5, 8, 10, 25]\n"
     ]
    }
   ],
   "source": [
    "list5 = [5,25,3,8,10]\n",
    "\n",
    "list5.sort() # inplace function\n",
    "print( list5)"
   ]
  },
  {
   "cell_type": "markdown",
   "id": "5820be8f-aade-4344-a2c0-9eff9355e9c8",
   "metadata": {},
   "source": [
    "5. `copy()` which can be used to make copy such that actions downstream do not affect the original list"
   ]
  },
  {
   "cell_type": "code",
   "execution_count": 149,
   "id": "c2c77ab2-173e-4239-ae27-a81b3d5f8a1d",
   "metadata": {},
   "outputs": [
    {
     "name": "stdout",
     "output_type": "stream",
     "text": [
      "[0, 2] [0, 2]\n"
     ]
    }
   ],
   "source": [
    "list6 = [0,1,2]\n",
    "no_cop = list6\n",
    "\n",
    "del no_cop[1]\n",
    "print( list6, no_cop)"
   ]
  },
  {
   "cell_type": "code",
   "execution_count": 150,
   "id": "82e866e8-a5db-4a0c-b7da-c838d3cc177c",
   "metadata": {},
   "outputs": [
    {
     "name": "stdout",
     "output_type": "stream",
     "text": [
      "[0, 1, 2] [0, 2]\n"
     ]
    }
   ],
   "source": [
    "list6 = [0,1,2]\n",
    "cop = list6.copy()\n",
    "\n",
    "del cop[1]\n",
    "print( list6, cop)"
   ]
  },
  {
   "cell_type": "markdown",
   "id": "9a273545-4550-47b5-964d-3c1f1283a39a",
   "metadata": {},
   "source": [
    "<br>\n",
    "\n",
    "#### *Task 1.9: List Methods*\n",
    "Using the three lists provided, perform the following operations:\n",
    "\n",
    "1. Sort the **numbers list** in ascending order using the `sort()` method.\n",
    "\n",
    "2. Find the index of 9 in the **copied list** using the `index()` method.\n",
    "\n",
    "3. Remove 9 from the **copied list** using the `pop()` method. Use shift+tab to see `pop()` function details.\n",
    "\n",
    "4. Print the **numbers, original, and copied** lists to observe the differences."
   ]
  },
  {
   "cell_type": "code",
   "execution_count": 156,
   "id": "34b5581b-64a1-471c-a620-8d7afded1ae6",
   "metadata": {},
   "outputs": [],
   "source": [
    "# Task 1.9\n",
    "numbers = [5, 2, 9, 1, 7]\n",
    "original = numbers\n",
    "copied = numbers.copy()"
   ]
  },
  {
   "cell_type": "markdown",
   "id": "8824c7d0-90df-4f87-b6d5-11454b2e2892",
   "metadata": {},
   "source": [
    "<br>\n",
    "\n",
    "### List Methods - Adding items to a list\n",
    "Python list provides different methods to add items to a list."
   ]
  },
  {
   "cell_type": "markdown",
   "id": "8022eee6-b204-4510-8e4b-5452599e2559",
   "metadata": {},
   "source": [
    "1. The append() method adds an item at the end of the list. For example,"
   ]
  },
  {
   "cell_type": "code",
   "execution_count": null,
   "id": "528b5eb8-00bb-4fa9-a0fe-e3ef1c4a267d",
   "metadata": {},
   "outputs": [
    {
     "name": "stdout",
     "output_type": "stream",
     "text": [
      "Before Append: [21, 34, 54, 12]\n",
      "After Append: [21, 34, 54, 12, 32]\n"
     ]
    }
   ],
   "source": [
    "numbers = [21, 34, 54, 12]\n",
    "\n",
    "print(\"Before Append:\", numbers)\n",
    "\n",
    "# using append method\n",
    "numbers.append(32)\n",
    "\n",
    "print(\"After Append:\", numbers)"
   ]
  },
  {
   "cell_type": "markdown",
   "id": "f464c284-a70a-48d3-95de-dacfc8867e71",
   "metadata": {},
   "source": [
    "2. We use the extend() method to add all the items of another list to the end of the list. For example,"
   ]
  },
  {
   "cell_type": "code",
   "execution_count": null,
   "id": "6e53ec33-5a7b-4f45-b092-56216f4fc822",
   "metadata": {},
   "outputs": [
    {
     "name": "stdout",
     "output_type": "stream",
     "text": [
      "List after extend: [1, 3, 5, 4, 6, 8]\n"
     ]
    }
   ],
   "source": [
    "numbers = [1, 3, 5]\n",
    "even_numbers = [4, 6, 8]\n",
    "\n",
    "# add elements of even_numbers to the numbers list\n",
    "numbers.extend(even_numbers)\n",
    "\n",
    "print(\"List after extend:\", numbers) "
   ]
  },
  {
   "cell_type": "markdown",
   "id": "9475384c-87d2-4ed5-9694-dd9845577f74",
   "metadata": {},
   "source": [
    "Compare this to appending a list to another"
   ]
  },
  {
   "cell_type": "code",
   "execution_count": null,
   "id": "bcf12a78-c8e0-4d77-82dd-bdb66dee03b0",
   "metadata": {},
   "outputs": [
    {
     "name": "stdout",
     "output_type": "stream",
     "text": [
      "List after append: [1, 3, 5, [4, 6, 8]]\n"
     ]
    }
   ],
   "source": [
    "numbers = [1, 3, 5]\n",
    "even_numbers = [4, 6, 8]\n",
    "\n",
    "# add elements of even_numbers to the numbers list\n",
    "numbers.append(even_numbers)\n",
    "\n",
    "print(\"List after append:\", numbers) "
   ]
  },
  {
   "cell_type": "markdown",
   "id": "0a07f91a-3ac8-43b1-aa8e-0320cfb1ecf6",
   "metadata": {},
   "source": [
    "### List Methods - Removing items from a list\n",
    "In Python we can use the del statement to remove one or more items from a list. For example,"
   ]
  },
  {
   "cell_type": "code",
   "execution_count": null,
   "id": "84bb9476-cff1-47fe-9322-79ae7a4aa682",
   "metadata": {},
   "outputs": [
    {
     "name": "stdout",
     "output_type": "stream",
     "text": [
      "['Python', 'C++', 'C', 'Java', 'Rust', 'R']\n",
      "['Python', 'C++', 'C', 'Java', 'Rust']\n",
      "['C', 'Java', 'Rust']\n"
     ]
    }
   ],
   "source": [
    "languages = ['Python', 'Swift', 'C++', 'C', 'Java', 'Rust', 'R']\n",
    "\n",
    "# deleting the second item\n",
    "del languages[1]\n",
    "print(languages) # ['Python', 'C++', 'C', 'Java', 'Rust', 'R']\n",
    "\n",
    "# deleting the last item\n",
    "del languages[-1]\n",
    "print(languages) # ['Python', 'C++', 'C', 'Java', 'Rust']\n",
    "\n",
    "# delete the first two items\n",
    "del languages[0 : 2]  # ['C', 'Java', 'Rust']\n",
    "print(languages)"
   ]
  },
  {
   "cell_type": "markdown",
   "id": "428bfee3-9cb1-4c9a-bf18-675a4e6ff3b8",
   "metadata": {},
   "source": [
    "We can also use the remove() method to delete a list item. For example,"
   ]
  },
  {
   "cell_type": "code",
   "execution_count": null,
   "id": "6384d9bc-805c-433b-940a-46ed87191b93",
   "metadata": {},
   "outputs": [
    {
     "name": "stdout",
     "output_type": "stream",
     "text": [
      "['Swift', 'C++', 'C', 'Java', 'Rust', 'R']\n"
     ]
    }
   ],
   "source": [
    "languages = ['Python', 'Swift', 'C++', 'C', 'Java', 'Rust', 'R']\n",
    "\n",
    "# remove 'Python' from the list\n",
    "languages.remove('Python')\n",
    "\n",
    "print(languages) # ['Swift', 'C++', 'C', 'Java', 'Rust', 'R']"
   ]
  },
  {
   "cell_type": "markdown",
   "id": "2d845e5f-205e-4635-a600-8373267fa9aa",
   "metadata": {},
   "source": [
    "<br>\n",
    "\n",
    "#### *Task 1.10: Country List Manipulation*\n",
    "\n",
    "Using the list of countries below.\n",
    "\n",
    "1. Print the original list of countries.\n",
    "2. Append 'France' to the list.\n",
    "3. `sort()` the list in alphabetical order.\n",
    "4. Print the third country in the list.\n",
    "5. Create a copy of the list using the `copy()` method.\n",
    "6. Remove a country from the copied list.\n",
    "7. Print the length of both the original and copied lists.\n",
    "8. Print the final lists of countries."
   ]
  },
  {
   "cell_type": "code",
   "execution_count": 158,
   "id": "11912d70-d0fd-4a7f-99f7-f390d45dc9f0",
   "metadata": {},
   "outputs": [],
   "source": [
    "# Task 1.10\n",
    "countries = [\"Germany\", \"Canada\", \"Japan\", \"Brazil\", \"Australia\"]\n",
    "\n"
   ]
  },
  {
   "cell_type": "markdown",
   "id": "d9e1df81-bee9-44cb-90f1-0c2f83c76d1a",
   "metadata": {},
   "source": [
    "---\n",
    "<br>\n",
    "\n",
    "## Tuples\n",
    "\n",
    "These are have a purpose but are not used often. Tuples are basically unmodifiable lists. We create tuples by placing elements inside square brackets (), separated by commas."
   ]
  },
  {
   "cell_type": "code",
   "execution_count": null,
   "id": "4bd653fe-4910-4cd4-ae38-5a1f01bc6301",
   "metadata": {},
   "outputs": [],
   "source": [
    "tup = (1, 'Hello', True)\n",
    "lst = [1, 'Hello', True]"
   ]
  },
  {
   "cell_type": "markdown",
   "id": "a5106a94-38f5-44e3-a235-f97b4c17a2a9",
   "metadata": {},
   "source": [
    "With a list we change items and delete them"
   ]
  },
  {
   "cell_type": "code",
   "execution_count": null,
   "id": "2b7dc669-6a86-43f2-8a14-7a34be8bf2d8",
   "metadata": {},
   "outputs": [
    {
     "name": "stdout",
     "output_type": "stream",
     "text": [
      "[1, 'Goodbye']\n"
     ]
    }
   ],
   "source": [
    "lst[1] = 'Goodbye'\n",
    "del lst[-1]\n",
    "print( lst)"
   ]
  },
  {
   "cell_type": "code",
   "execution_count": null,
   "id": "c5d79f98-9f0d-4800-ae69-614df24ba253",
   "metadata": {},
   "outputs": [
    {
     "ename": "TypeError",
     "evalue": "'tuple' object does not support item assignment",
     "output_type": "error",
     "traceback": [
      "\u001b[0;31m---------------------------------------------------------------------------\u001b[0m",
      "\u001b[0;31mTypeError\u001b[0m                                 Traceback (most recent call last)",
      "Input \u001b[0;32mIn [73]\u001b[0m, in \u001b[0;36m<cell line: 1>\u001b[0;34m()\u001b[0m\n\u001b[0;32m----> 1\u001b[0m tup[\u001b[38;5;241m1\u001b[39m] \u001b[38;5;241m=\u001b[39m \u001b[38;5;124m'\u001b[39m\u001b[38;5;124mGoodbye\u001b[39m\u001b[38;5;124m'\u001b[39m\n",
      "\u001b[0;31mTypeError\u001b[0m: 'tuple' object does not support item assignment"
     ]
    }
   ],
   "source": [
    "tup[1] = 'Goodbye'"
   ]
  },
  {
   "cell_type": "code",
   "execution_count": null,
   "id": "d1d25a80-a57d-48fe-8ae8-66b36deb8b7b",
   "metadata": {},
   "outputs": [
    {
     "ename": "TypeError",
     "evalue": "'tuple' object doesn't support item deletion",
     "output_type": "error",
     "traceback": [
      "\u001b[0;31m---------------------------------------------------------------------------\u001b[0m",
      "\u001b[0;31mTypeError\u001b[0m                                 Traceback (most recent call last)",
      "Input \u001b[0;32mIn [74]\u001b[0m, in \u001b[0;36m<cell line: 1>\u001b[0;34m()\u001b[0m\n\u001b[0;32m----> 1\u001b[0m \u001b[38;5;28;01mdel\u001b[39;00m tup[\u001b[38;5;241m-\u001b[39m\u001b[38;5;241m1\u001b[39m]\n",
      "\u001b[0;31mTypeError\u001b[0m: 'tuple' object doesn't support item deletion"
     ]
    }
   ],
   "source": [
    "del tup[-1]"
   ]
  },
  {
   "cell_type": "markdown",
   "id": "ea646ca6-4ff9-4bfa-89a0-37ef5a1c5736",
   "metadata": {},
   "source": [
    "<br>\n",
    "\n",
    "## Dictionaries\n",
    "\n",
    "In Python, a dictionary is a collection that allows us to store data with labels or key-value pairs. Dictionaries are created by placing key:value pairs with in curly brackets {}."
   ]
  },
  {
   "cell_type": "code",
   "execution_count": null,
   "id": "9d6928a0-04b8-419d-bb19-2dacf0cdce69",
   "metadata": {},
   "outputs": [
    {
     "name": "stdout",
     "output_type": "stream",
     "text": [
      "{'United States': 'Washington D.C.', 'Italy': 'Rome', 'England': 'London'}\n"
     ]
    }
   ],
   "source": [
    "# creating a dictionary\n",
    "country_capitals = { \"United States\": \"Washington D.C.\", \n",
    "                     \"Italy\": \"Rome\", \n",
    "                     \"England\": \"London\"\n",
    "                    }\n",
    "\n",
    "# printing the dictionary\n",
    "print(country_capitals)"
   ]
  },
  {
   "cell_type": "code",
   "execution_count": null,
   "id": "5e598fdd-1382-4288-b3b2-763aefc1691e",
   "metadata": {},
   "outputs": [
    {
     "name": "stdout",
     "output_type": "stream",
     "text": [
      "Washington D.C.\n"
     ]
    }
   ],
   "source": [
    "print(country_capitals[\"United States\"])"
   ]
  },
  {
   "cell_type": "code",
   "execution_count": null,
   "id": "7b13a544-2501-4ba4-9a80-bf55dcbe35f9",
   "metadata": {},
   "outputs": [
    {
     "name": "stdout",
     "output_type": "stream",
     "text": [
      "London\n"
     ]
    }
   ],
   "source": [
    "print(country_capitals[\"England\"])"
   ]
  },
  {
   "cell_type": "code",
   "execution_count": null,
   "id": "4ffd280a-649c-4368-9bd2-b5068ce5e852",
   "metadata": {},
   "outputs": [
    {
     "data": {
      "text/plain": [
       "3"
      ]
     },
     "execution_count": 80,
     "metadata": {},
     "output_type": "execute_result"
    }
   ],
   "source": [
    "len( country_capitals)"
   ]
  },
  {
   "cell_type": "markdown",
   "id": "3e2e6587-a8c2-4165-b6c7-bf2a9f31f40f",
   "metadata": {},
   "source": [
    "We can access the labels using keys()"
   ]
  },
  {
   "cell_type": "code",
   "execution_count": 81,
   "id": "9a948196-c203-47f8-a025-a7aaf1dfc800",
   "metadata": {},
   "outputs": [
    {
     "data": {
      "text/plain": [
       "dict_keys(['United States', 'Italy', 'England'])"
      ]
     },
     "execution_count": 81,
     "metadata": {},
     "output_type": "execute_result"
    }
   ],
   "source": [
    "country_capitals.keys()"
   ]
  },
  {
   "cell_type": "markdown",
   "id": "e43f73a9-a744-4bf0-8c40-f387f3dfb9c8",
   "metadata": {},
   "source": [
    "and the items using values()"
   ]
  },
  {
   "cell_type": "code",
   "execution_count": 83,
   "id": "42296c8a-1b6a-49c0-86a4-82628d914838",
   "metadata": {},
   "outputs": [
    {
     "data": {
      "text/plain": [
       "dict_values(['Washington D.C.', 'Rome', 'London'])"
      ]
     },
     "execution_count": 83,
     "metadata": {},
     "output_type": "execute_result"
    }
   ],
   "source": [
    "country_capitals.values()"
   ]
  },
  {
   "cell_type": "markdown",
   "id": "94f1047d-d41b-4f38-9cff-fff9ce2b9089",
   "metadata": {},
   "source": [
    "Both can be accessed using items()"
   ]
  },
  {
   "cell_type": "code",
   "execution_count": 85,
   "id": "a1d27601-df16-4010-9b3d-7439c9ae33a3",
   "metadata": {},
   "outputs": [
    {
     "data": {
      "text/plain": [
       "dict_items([('United States', 'Washington D.C.'), ('Italy', 'Rome'), ('England', 'London')])"
      ]
     },
     "execution_count": 85,
     "metadata": {},
     "output_type": "execute_result"
    }
   ],
   "source": [
    "country_capitals.items()"
   ]
  },
  {
   "cell_type": "markdown",
   "id": "ee77c16b-3cdd-4a66-a3ae-b5abc848bde0",
   "metadata": {},
   "source": [
    "<br>\n",
    "\n",
    "#### *Task 1.11: Student Information*\n",
    "\n",
    "1. Create a dictionary called student with the following key-value pairs:\n",
    "\"name\" : \"John\"\n",
    "\"age\" : 20\n",
    "\"university\" : \"UWA\"\n",
    "\"major\" : \"Biology\"\n",
    "\"grades\": [6,5,6,7]\n",
    "\n",
    "2. Add a new key-value pair to the dictionary:\n",
    "\"GPA\" : 6.5\n",
    "\n",
    "3. Update the value of the \"age\" key to 21.\n",
    "\n",
    "4. Remove the key-value pair for \"university\" from the dictionary.\n",
    "\n",
    "5. Print the final dictionary."
   ]
  },
  {
   "cell_type": "code",
   "execution_count": 159,
   "id": "c478945d-f7c6-46e6-a2e4-29c3e18b4b44",
   "metadata": {},
   "outputs": [],
   "source": [
    "# Task 1.11\n",
    "\n"
   ]
  },
  {
   "cell_type": "markdown",
   "id": "87966eaa-0ec3-4d1a-8e78-e3e665b24644",
   "metadata": {},
   "source": [
    "<br><br><br><br>\n",
    "\n",
    "---\n",
    "\n",
    "References:\n",
    "- https://github.com/Asabeneh/30-Days-Of-Python/02_Day_Variables_builtin_functions/02_variables_builtin_functions.md\n",
    "- https://github.com/Asabeneh/30-Days-Of-Python/blob/master/03_Day_Operators/03_operators.md\n",
    "- https://www.w3schools.com/python/python_operators.asphttps://www.w3schools.com/python/python_operators.asp\n",
    "- https://www.javatpoint.com/python-data-typeshttps://www.javatpoint.com/python-data-types\n",
    "- https://www.programiz.com/python-programming/listhttps://www.programiz.com/python-programming/list\n"
   ]
  }
 ],
 "metadata": {
  "kernelspec": {
   "display_name": "Python 3 (ipykernel)",
   "language": "python",
   "name": "python3"
  },
  "language_info": {
   "codemirror_mode": {
    "name": "ipython",
    "version": 3
   },
   "file_extension": ".py",
   "mimetype": "text/x-python",
   "name": "python",
   "nbconvert_exporter": "python",
   "pygments_lexer": "ipython3",
   "version": "3.9.12"
  },
  "toc-showmarkdowntxt": false
 },
 "nbformat": 4,
 "nbformat_minor": 5
}
