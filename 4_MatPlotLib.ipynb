{
 "cells": [
  {
   "cell_type": "code",
   "execution_count": null,
   "metadata": {
    "jupyter": {
     "source_hidden": true
    },
    "tags": []
   },
   "outputs": [],
   "source": [
    "from IPython.core.display import HTML\n",
    "table_css = 'table {align:left;display:block} '\n",
    "HTML('<style>{}</style>'.format(table_css))"
   ]
  },
  {
   "cell_type": "markdown",
   "metadata": {},
   "source": [
    "# **ASI WA Python Workshop**"
   ]
  },
  {
   "cell_type": "markdown",
   "metadata": {
    "tags": []
   },
   "source": [
    "## **Jupyter Notebook Tips**\n",
    "\n",
    "Outside of a cell:\n",
    "\n",
    "| key combo | action |\n",
    "| :--: | ---- |\n",
    "| shift+enter |  run a cell |\n",
    "| b |  insert cell below | \n",
    "| a |  insert cell above |\n",
    "| dd | delete selected cell |\n",
    "\n",
    "<br>\n",
    "Within a cell:\n",
    "\n",
    "| key combo | action |\n",
    "| :--: | ---- |\n",
    "| Command + / |  comment out line(s) |\n",
    "| Alt + Cursor | vertical selection |\n",
    "\n",
    "**Control = Command\n",
    "<br><br><br>"
   ]
  },
  {
   "cell_type": "markdown",
   "metadata": {},
   "source": [
    "---\n",
    "<a id='1.1'></a>"
   ]
  },
  {
   "cell_type": "markdown",
   "metadata": {
    "tags": []
   },
   "source": [
    "## **PIP to install external modules or packages**\n",
    "PIP is a package manager for Python packages, or modules. \n",
    "\n",
    "**What is a Package?**\n",
    "A package contains all the files you need for a module.\n",
    "\n",
    "### Installing a package\n",
    "Downloading a package is very easy. Open the command line interface and tell PIP to download the package you want. For example:\n",
    "```\n",
    "pip install numpy\n",
    "```\n",
    "### Uninstalling a package\n",
    "To uninstall:\n",
    "```\n",
    "pip uninstall numpy\n",
    "```\n",
    "### Listing all packages installed\n",
    "To list all packages currently installed:\n",
    "```\n",
    "pip list\n",
    "```\n",
    "\n",
    "### Where to find Packages\n",
    "Find more packages at https://pypi.org/."
   ]
  },
  {
   "cell_type": "markdown",
   "metadata": {},
   "source": [
    "---\n",
    "<br>\n",
    "\n",
    "**This content was adapted from https://github.com/rasbt/numpy-intro-blogarticle-2020/blob/master/scipython__blog.ipynb**"
   ]
  },
  {
   "cell_type": "markdown",
   "metadata": {},
   "source": [
    "---\n",
    "\n",
    "# **Matplotlib**\n",
    "\n",
    "---"
   ]
  },
  {
   "cell_type": "markdown",
   "metadata": {},
   "source": [
    "## What is Matplotlib?\n",
    "Matplotlib is a plotting library for Python created by John D. Hunter in 2003. Unfortunately, John D. Hunter became ill and past away in 2012. However, Matplot is still the most mature plotting library, and is being maintained until this day.\n",
    "\n",
    "In general, Matplotlib is a rather \"low-level\" plotting library, which means that it has a lot of room for customization. **The advantage of Matplotlib is that it is so customizable; the disadvantage of Matplotlib is that it is so customizable** -- some people find it a little bit too verbose due to all the different options.\n",
    "\n",
    "I will introduce the seaborne package later on, it is much easier to use and the closest package Python has to ggplot in R. \n",
    "\n",
    "In any case, Matplotlib is among the most widely used plotting library and the go-to choice for many data scientists and machine learning researchers and practictioners.\n",
    "\n",
    "In my(that guys) opinion, the best way to work with Matplotlib is to use the Matplotlib gallery on the official website at [https://matplotlib.org/gallery/index.html](https://matplotlib.org/gallery/index.html) often. It contains code examples for creating various different kinds of plots, which are useful as templates for creating your own plots. Also, if you are completely new to Matplotlib, I recommend the tutorials at [https://matplotlib.org/tutorials/index.html](https://matplotlib.org/tutorials/index.html).\n",
    "\n",
    "In this section, we will look at a few very simple examples, which should be very intuitive and shouldn't require much explanation."
   ]
  },
  {
   "cell_type": "code",
   "execution_count": null,
   "metadata": {},
   "outputs": [],
   "source": [
    "# jupyter notebook command to show plots inline (in the notebook)\n",
    "%matplotlib inline \n",
    "\n",
    "import matplotlib.pyplot as plt # pyplot makes everything a bit easier"
   ]
  },
  {
   "cell_type": "markdown",
   "metadata": {},
   "source": [
    "The main plotting functions of Matplotlib are contained in the pyplot module, which we imported above. Note that the `%matplotlib inline` command is an \"IPython magic\" command. This particular `%matplotlib inline` is specific to Jupyter notebooks (which, in our case, use an IPython kernel) to show the plots \"inline,\" that is, the notebook itself."
   ]
  },
  {
   "cell_type": "markdown",
   "metadata": {},
   "source": [
    "## Plotting Functions and Lines\n",
    "Once imported we can call plotting functions using this syntax:\n",
    "```\n",
    "plt.plot_type()\n",
    "plt.show()\n",
    "```"
   ]
  },
  {
   "cell_type": "code",
   "execution_count": null,
   "metadata": {},
   "outputs": [],
   "source": [
    "# plot a sine wave\n",
    "from math import sin\n",
    "\n",
    "# generate interval of points in a list\n",
    "x = range( 0, 50, 1)\n",
    "# list comprehension to alter to sine our list \n",
    "y = [sin(ii) for ii in x]\n",
    "\n",
    "# call the plt package and \n",
    "plt.plot(x, y)\n",
    "# tell matplotlib to produce the plot\n",
    "plt.show()"
   ]
  },
  {
   "cell_type": "markdown",
   "metadata": {},
   "source": [
    "Add axis ranges and labels:"
   ]
  },
  {
   "cell_type": "code",
   "execution_count": null,
   "metadata": {},
   "outputs": [],
   "source": [
    "plt.plot(x, y)\n",
    "\n",
    "plt.xlim([2, 8])\n",
    "plt.ylim([0, 0.75])\n",
    "\n",
    "plt.xlabel('x-axis')\n",
    "plt.ylabel('y-axis')\n",
    "\n",
    "plt.show()"
   ]
  },
  {
   "cell_type": "markdown",
   "metadata": {},
   "source": [
    "Add maker type and a legend"
   ]
  },
  {
   "cell_type": "code",
   "execution_count": null,
   "metadata": {},
   "outputs": [],
   "source": [
    "from math import cos\n",
    "\n",
    "# generate interval of points in a list\n",
    "x = range( 0, 50, 1)\n",
    "# list comprehension to alter to sine our list \n",
    "y1 = [cos(ii) for ii in x]\n",
    "# list comprehension to alter to sine our list \n",
    "y2 = [sin(ii) for ii in x]\n",
    "\n",
    "plt.plot(x, y1, label=('cos(x)'), linestyle='-', marker='o')\n",
    "plt.plot(x, y2, label=('sin(x)'), linestyle='-', marker='^')\n",
    "\n",
    "plt.ylabel('y')\n",
    "plt.xlabel('x')\n",
    "\n",
    "plt.legend(loc='lower left')\n",
    "plt.show()"
   ]
  },
  {
   "cell_type": "markdown",
   "metadata": {},
   "source": [
    "## Scatter Plots"
   ]
  },
  {
   "cell_type": "code",
   "execution_count": null,
   "metadata": {},
   "outputs": [],
   "source": [
    "import numpy as np # more on numpy in the next notebook\n",
    "\n",
    "# dont worry about data generation for now\n",
    "rng = np.random.RandomState(123)\n",
    "x = rng.normal(size=500)\n",
    "y = rng.normal(size=500)\n",
    "\n",
    "\n",
    "plt.scatter(x, y, c='green')\n",
    "plt.show()"
   ]
  },
  {
   "cell_type": "markdown",
   "metadata": {},
   "source": [
    "#### *Task 4.1: Create a Scatter Plot*\n",
    "\n",
    "1. Import the necessary modules: random and matplotlib.pyplot as plt.\n",
    "\n",
    "2. Use the two lists of random data for the x and y coordinates. You can use the random.randint() function to generate random integers within a desired range.\n",
    "\n",
    "3. Create the scatter plot using plt.scatter(), passing the x and y coordinates as arguments.\n",
    "\n",
    "4. Add labels to the x and y axes using plt.xlabel() and plt.ylabel().\n",
    "\n",
    "5. Set a title for the plot using plt.title().\n",
    "\n",
    "6. Display the plot using plt.show()."
   ]
  },
  {
   "cell_type": "code",
   "execution_count": 66,
   "metadata": {},
   "outputs": [],
   "source": [
    "# Task 4.1\n",
    "\n",
    "x = [random.randint(0,10) for _ in range(100)]\n",
    "y = [random.randint(0,10) for _ in range(100)]"
   ]
  },
  {
   "cell_type": "markdown",
   "metadata": {},
   "source": [
    "----\n",
    "## Bar Plots"
   ]
  },
  {
   "cell_type": "code",
   "execution_count": null,
   "metadata": {},
   "outputs": [],
   "source": [
    "# input data\n",
    "means = [5, 8, 10]\n",
    "stddevs = [0.2, 0.4, 0.5]\n",
    "bar_labels = ['bar 1', 'bar 2', 'bar 3']\n",
    "\n",
    "# plot bars\n",
    "x_pos = list(range(len(bar_labels)))\n",
    "plt.bar(x_pos, means, yerr=stddevs)\n",
    "plt.title('Bar Plot')\n",
    "plt.show()"
   ]
  },
  {
   "cell_type": "markdown",
   "metadata": {},
   "source": [
    "## Histograms\n",
    "One of the first ways you should look at your data."
   ]
  },
  {
   "cell_type": "code",
   "execution_count": null,
   "metadata": {},
   "outputs": [],
   "source": [
    "# dont worry about data generation\n",
    "rng = np.random.RandomState(123)\n",
    "x = rng.normal(0, 20, 1000) \n",
    "\n",
    "# fixed bin size\n",
    "bins = np.arange(-100, 100, 5) # fixed bin size\n",
    "\n",
    "plt.hist(x, bins=bins)\n",
    "plt.show()"
   ]
  },
  {
   "cell_type": "code",
   "execution_count": null,
   "metadata": {},
   "outputs": [],
   "source": [
    "rng = np.random.RandomState(123)\n",
    "x1 = rng.normal(0, 20, 1000) \n",
    "x2 = rng.normal(15, 10, 1000)\n",
    "\n",
    "plt.hist(x1, bins=50, alpha=0.5)\n",
    "plt.hist(x2, bins=50, alpha=0.5)\n",
    "plt.show()"
   ]
  },
  {
   "cell_type": "markdown",
   "metadata": {},
   "source": [
    "## Subplots"
   ]
  },
  {
   "cell_type": "code",
   "execution_count": null,
   "metadata": {},
   "outputs": [],
   "source": [
    "import random\n",
    "\n",
    "# Generate random data\n",
    "x = [random.randint(1, 10) for _ in range(10)]\n",
    "y1 = [random.randint(1, 10) for _ in range(10)]\n",
    "y2 = [random.randint(1, 10) for _ in range(10)]\n",
    "\n",
    "# Create subplots\n",
    "fig, (ax1, ax2) = plt.subplots(nrows=1, ncols=2, figsize=(10, 5))\n",
    "\n",
    "# Plot data on the first subplot\n",
    "ax1.scatter(x, y1)\n",
    "ax1.set_xlabel('X-axis')\n",
    "ax1.set_ylabel('Y-axis')\n",
    "ax1.set_title('Scatter Plot 1')\n",
    "\n",
    "# Plot data on the second subplot\n",
    "ax2.scatter(x, y2)\n",
    "ax2.set_xlabel('X-axis')\n",
    "ax2.set_ylabel('Y-axis')\n",
    "ax2.set_title('Scatter Plot 2')\n",
    "\n",
    "# Adjust the spacing between subplots\n",
    "plt.tight_layout()\n",
    "\n",
    "# Display the plots\n",
    "plt.show()\n"
   ]
  },
  {
   "cell_type": "code",
   "execution_count": null,
   "metadata": {},
   "outputs": [],
   "source": [
    "# Generate random data\n",
    "x1 = [random.randint(1, 10) for _ in range(10)]\n",
    "y1 = [random.randint(1, 10) for _ in range(10)]\n",
    "\n",
    "x2 = [random.randint(1, 10) for _ in range(10)]\n",
    "y2 = [random.randint(1, 10) for _ in range(10)]\n",
    "\n",
    "x3 = [random.randint(1, 10) for _ in range(10)]\n",
    "y3 = [random.randint(1, 10) for _ in range(10)]\n",
    "\n",
    "x4 = [random.randint(1, 10) for _ in range(10)]\n",
    "y4 = [random.randint(1, 10) for _ in range(10)]\n",
    "\n",
    "# Create subplots\n",
    "fig, axes = plt.subplots(2, 2, figsize=(10, 8))\n",
    "\n",
    "# Plot data on each subplot\n",
    "axes[0, 0].scatter(x1, y1)\n",
    "axes[0, 0].set_xlabel('X-axis')\n",
    "axes[0, 0].set_ylabel('Y-axis')\n",
    "axes[0, 0].set_title('Subplot 1')\n",
    "\n",
    "axes[0, 1].scatter(x2, y2)\n",
    "axes[0, 1].set_xlabel('X-axis')\n",
    "axes[0, 1].set_ylabel('Y-axis')\n",
    "axes[0, 1].set_title('Subplot 2')\n",
    "\n",
    "axes[1, 0].scatter(x3, y3)\n",
    "axes[1, 0].set_xlabel('X-axis')\n",
    "axes[1, 0].set_ylabel('Y-axis')\n",
    "axes[1, 0].set_title('Subplot 3')\n",
    "\n",
    "axes[1, 1].scatter(x4, y4)\n",
    "axes[1, 1].set_xlabel('X-axis')\n",
    "axes[1, 1].set_ylabel('Y-axis')\n",
    "axes[1, 1].set_title('Subplot 4')\n",
    "\n",
    "# Adjust the spacing between subplots\n",
    "plt.tight_layout()\n",
    "\n",
    "# Display the subplots\n",
    "plt.show()\n"
   ]
  },
  {
   "cell_type": "code",
   "execution_count": null,
   "metadata": {},
   "outputs": [],
   "source": [
    "x = range(11)\n",
    "y = range(11)\n",
    "\n",
    "fig, ax = plt.subplots(nrows=2, ncols=3,\n",
    "                       sharex=True, sharey=True)\n",
    "\n",
    "for row in ax:\n",
    "    for col in row:\n",
    "        col.plot(x, y)\n",
    "        \n",
    "plt.show()"
   ]
  },
  {
   "cell_type": "markdown",
   "metadata": {},
   "source": [
    "#### Task 4.2: Create Two Subplots\n",
    "\n",
    "1. Generate random data for two sets of x and y coordinates.\n",
    "\n",
    "2. Create a figure and two subplots using plt.subplots(). Set the number of rows and columns of subplots accordingly.\n",
    "\n",
    "3. Plot the data on each subplot using the appropriate plotting function (plt.scatter(), plt.plot(), etc.).\n",
    "\n",
    "4. Customize the subplots by setting labels, titles, or other properties using the corresponding methods (set_xlabel(), set_ylabel(), set_title(), etc.).\n",
    "\n",
    "5. Display the subplots using plt.show()."
   ]
  },
  {
   "cell_type": "code",
   "execution_count": null,
   "metadata": {},
   "outputs": [],
   "source": [
    "# Task 4.2\n",
    "\n",
    "# 1. Generate random data\n",
    "x = [random.randint(1, 10) for _ in range(10)]\n",
    "y1 = [random.randint(1, 10) for _ in range(10)]\n",
    "y2 = [random.randint(1, 10) for _ in range(10)]"
   ]
  },
  {
   "attachments": {
    "34d3f8f5-dfad-41cf-b272-214df622a249.png": {
     "image/png": "[encoded data removed]"
    }
   },
   "cell_type": "markdown",
   "metadata": {},
   "source": [
    "---\n",
    "## Colors and Markers\n",
    "\n",
    "![matplotlib_markers.png](attachment:34d3f8f5-dfad-41cf-b272-214df622a249.png)"
   ]
  },
  {
   "cell_type": "code",
   "execution_count": null,
   "metadata": {},
   "outputs": [],
   "source": [
    "x = range(11)\n",
    "y = range(11)\n",
    "\n",
    "plt.plot(x, y,\n",
    "         color='blue',\n",
    "         marker='^',\n",
    "         linestyle='')\n",
    "plt.show()"
   ]
  },
  {
   "cell_type": "code",
   "execution_count": null,
   "metadata": {},
   "outputs": [],
   "source": [
    "x = range(11)\n",
    "y = range(11)\n",
    "\n",
    "plt.plot(x, y,\n",
    "         c='blue',\n",
    "         marker='1',\n",
    "         linestyle='')\n",
    "plt.show()"
   ]
  },
  {
   "cell_type": "markdown",
   "metadata": {},
   "source": [
    "<br>\n",
    "\n",
    "#### *Task 4.3: Create Subplots with Different Markers*\n",
    "\n",
    "1. Generate two sets of x and y coordinates. Can use range() or anything else.\n",
    "\n",
    "2. Create a figure with three subplots using plt.subplots(). Set the number of rows and columns of subplots accordingly.\n",
    "\n",
    "3. Plot the data on each subplot using the appropriate plotting function (plt.scatter(), plt.plot(), etc.).\n",
    "\n",
    "4. Customize the subplots by giving each a unique color and marker type.\n",
    "\n",
    "5. Display the subplots using plt.show()."
   ]
  },
  {
   "cell_type": "code",
   "execution_count": null,
   "metadata": {},
   "outputs": [],
   "source": [
    "# Task 4.3\n",
    "\n",
    "\n"
   ]
  },
  {
   "cell_type": "markdown",
   "metadata": {},
   "source": [
    "## Saving Plots"
   ]
  },
  {
   "cell_type": "markdown",
   "metadata": {},
   "source": [
    "The file format for saving plots can be conveniently specified via the file suffix (.eps, .svg, .jpg, .png, .pdf, .tiff, etc.). Personally, I recommend using a vector graphics format (.eps, .svg, .pdf) whenever you can, which usually results in smaller file sizes than bitmap graphics (.jpg, .png, .bmp, tiff) and does not have a limited resolution."
   ]
  },
  {
   "cell_type": "code",
   "execution_count": null,
   "metadata": {},
   "outputs": [],
   "source": [
    "plt.plot(x, y)\n",
    "\n",
    "plt.savefig('myplot.png', dpi=300)\n",
    "plt.savefig('myplot.pdf')\n",
    "\n",
    "plt.show()"
   ]
  },
  {
   "cell_type": "markdown",
   "metadata": {},
   "source": [
    "---\n",
    "<br>\n",
    "\n",
    "## **This was only meant to be a brief introduction that you can use as a reference.**\n",
    "\n",
    "<br>\n",
    "\n",
    "---"
   ]
  },
  {
   "cell_type": "markdown",
   "metadata": {},
   "source": [
    "NumPy and Matplotlib reference material:\n",
    "\n",
    "- [The official NumPy documentation](https://docs.scipy.org/doc/numpy/reference/index.html)\n",
    "- [The official Matplotlib Gallery](https://matplotlib.org/gallery/index.html)\n",
    "- [The official Matplotlib Tutorials](https://matplotlib.org/tutorials/index.html)\n",
    "\n",
    "\n",
    "Optional references books for using NumPy and SciPy:\n",
    "\n",
    "- Rougier, N.P., 2016. [From Python to NumPy](http://www.labri.fr/perso/nrougier/from-python-to-numpy/).\n",
    "- Oliphant, T.E., 2015. [A Guide to NumPy: 2nd Edition](https://www.amazon.com/Guide-NumPy-Travis-Oliphant-PhD/dp/151730007X). USA: Travis Oliphant, independent publishing.\n",
    "- Varoquaux, G., Gouillart, E., Vahtras, O., Haenel, V., Rougier, N.P., Gommers, R., Pedregosa, F., Jędrzejewski-Szmek, Z., Virtanen, P., Combelles, C. and Pinte, D., 2015. [SciPy Lecture Notes](http://www.scipy-lectures.org/intro/numpy/index.html).\n",
    "- Harris, C.R., Millman, K.J., van der Walt, S.J. et al. [Array Programming with NumPy](https://www.nature.com/articles/s41586-020-2649-2). Nature 585, 357–362 (2020). "
   ]
  }
 ],
 "metadata": {
  "anaconda-cloud": {},
  "kernelspec": {
   "display_name": "Python 3 (ipykernel)",
   "language": "python",
   "name": "python3"
  },
  "language_info": {
   "codemirror_mode": {
    "name": "ipython",
    "version": 3
   },
   "file_extension": ".py",
   "mimetype": "text/x-python",
   "name": "python",
   "nbconvert_exporter": "python",
   "pygments_lexer": "ipython3",
   "version": "3.9.12"
  },
  "toc": {
   "nav_menu": {},
   "number_sections": true,
   "sideBar": true,
   "skip_h1_title": false,
   "title_cell": "Table of Contents",
   "title_sidebar": "Contents",
   "toc_cell": false,
   "toc_position": {},
   "toc_section_display": true,
   "toc_window_display": false
  }
 },
 "nbformat": 4,
 "nbformat_minor": 4
}
